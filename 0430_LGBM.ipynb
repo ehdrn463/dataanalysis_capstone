{
  "nbformat": 4,
  "nbformat_minor": 0,
  "metadata": {
    "colab": {
      "name": "0430_LGBM",
      "provenance": [],
      "collapsed_sections": [
        "U2SUFBLsvGLA"
      ],
      "toc_visible": true,
      "machine_shape": "hm",
      "authorship_tag": "ABX9TyOrhO1EZPECXpt2y66g4e47",
      "include_colab_link": true
    },
    "kernelspec": {
      "name": "python3",
      "display_name": "Python 3"
    }
  },
  "cells": [
    {
      "cell_type": "markdown",
      "metadata": {
        "id": "view-in-github",
        "colab_type": "text"
      },
      "source": [
        "<a href=\"https://colab.research.google.com/github/ehdrn463/dataanalysis_capstone/blob/master/0430_LGBM.ipynb\" target=\"_parent\"><img src=\"https://colab.research.google.com/assets/colab-badge.svg\" alt=\"Open In Colab\"/></a>"
      ]
    },
    {
      "cell_type": "code",
      "metadata": {
        "id": "ah4nMFqkGGb-",
        "colab_type": "code",
        "colab": {}
      },
      "source": [
        "import pandas as pd # 데이터 전처리\n",
        "import numpy as np # 데이터 전처리\n",
        "import random #데이터 전처리\n",
        "from pandas import DataFrame #데이터 전처리\n",
        "from collections import Counter #데이터 전처리\n",
        "\n",
        "from tqdm import tqdm #시간 측정용\n",
        "\n",
        "from sklearn.feature_extraction.text import CountVectorizer # model setting\n",
        "from sklearn.model_selection import train_test_split  # model setting\n",
        "\n",
        "from sklearn.naive_bayes import MultinomialNB  # model 관련\n",
        "from sklearn.metrics import roc_auc_score  # model 성능 확인\n",
        "\n",
        "import re\n",
        "from tqdm import tqdm_notebook\n",
        "import os"
      ],
      "execution_count": 0,
      "outputs": []
    },
    {
      "cell_type": "code",
      "metadata": {
        "id": "b__3m0NyvGCe",
        "colab_type": "code",
        "colab": {}
      },
      "source": [
        "# DTM 문서 단어 행렬\n",
        "from sklearn.feature_extraction.text import CountVectorizer\n",
        "vector = CountVectorizer()\n",
        "\n",
        "# TF-IDF\n",
        "from sklearn.feature_extraction.text import TfidfVectorizer\n",
        "from sklearn.feature_extraction.text import TfidfTransformer    \n",
        "tfvector = TfidfTransformer(smooth_idf=False)"
      ],
      "execution_count": 0,
      "outputs": []
    },
    {
      "cell_type": "code",
      "metadata": {
        "id": "2NVnKnZ8vGFZ",
        "colab_type": "code",
        "colab": {}
      },
      "source": [
        "vectorizer=TfidfVectorizer(ngram_range=(1, 3),\n",
        "    min_df=2,       \n",
        "    max_features=10000,\n",
        "    sublinear_tf=True,\n",
        "    lowercase=False,\n",
        "    use_idf=True)"
      ],
      "execution_count": 0,
      "outputs": []
    },
    {
      "cell_type": "code",
      "metadata": {
        "id": "Lx7V7njVU-3h",
        "colab_type": "code",
        "colab": {}
      },
      "source": [
        ""
      ],
      "execution_count": 0,
      "outputs": []
    },
    {
      "cell_type": "code",
      "metadata": {
        "id": "olzxfEqdU-6H",
        "colab_type": "code",
        "colab": {}
      },
      "source": [
        ""
      ],
      "execution_count": 0,
      "outputs": []
    },
    {
      "cell_type": "markdown",
      "metadata": {
        "id": "i3YXP_-efFd7",
        "colab_type": "text"
      },
      "source": [
        "# Directory 변경\n"
      ]
    },
    {
      "cell_type": "code",
      "metadata": {
        "id": "pZ0HVknOAvX1",
        "colab_type": "code",
        "outputId": "7bac4971-c493-42e9-d607-49a0498184cd",
        "colab": {
          "base_uri": "https://localhost:8080/",
          "height": 327
        }
      },
      "source": [
        "from google.colab import drive\n",
        "\n",
        "drive.mount('/content/gdrive')"
      ],
      "execution_count": 0,
      "outputs": [
        {
          "output_type": "error",
          "ename": "ValueError",
          "evalue": "ignored",
          "traceback": [
            "\u001b[0;31m---------------------------------------------------------------------------\u001b[0m",
            "\u001b[0;31mValueError\u001b[0m                                Traceback (most recent call last)",
            "\u001b[0;32m<ipython-input-5-99e1f5ab51b6>\u001b[0m in \u001b[0;36m<module>\u001b[0;34m()\u001b[0m\n\u001b[1;32m      1\u001b[0m \u001b[0;32mfrom\u001b[0m \u001b[0mgoogle\u001b[0m\u001b[0;34m.\u001b[0m\u001b[0mcolab\u001b[0m \u001b[0;32mimport\u001b[0m \u001b[0mdrive\u001b[0m\u001b[0;34m\u001b[0m\u001b[0;34m\u001b[0m\u001b[0m\n\u001b[1;32m      2\u001b[0m \u001b[0;34m\u001b[0m\u001b[0m\n\u001b[0;32m----> 3\u001b[0;31m \u001b[0mdrive\u001b[0m\u001b[0;34m.\u001b[0m\u001b[0mmount\u001b[0m\u001b[0;34m(\u001b[0m\u001b[0;34m'/content/gdrive/My\\ Drive/kb_data'\u001b[0m\u001b[0;34m)\u001b[0m\u001b[0;34m\u001b[0m\u001b[0;34m\u001b[0m\u001b[0m\n\u001b[0m",
            "\u001b[0;32m/usr/local/lib/python3.6/dist-packages/google/colab/drive.py\u001b[0m in \u001b[0;36mmount\u001b[0;34m(mountpoint, force_remount, timeout_ms, use_metadata_server)\u001b[0m\n\u001b[1;32m     97\u001b[0m \u001b[0;34m\u001b[0m\u001b[0m\n\u001b[1;32m     98\u001b[0m   \u001b[0;32mif\u001b[0m \u001b[0;34m' '\u001b[0m \u001b[0;32min\u001b[0m \u001b[0mmountpoint\u001b[0m\u001b[0;34m:\u001b[0m\u001b[0;34m\u001b[0m\u001b[0;34m\u001b[0m\u001b[0m\n\u001b[0;32m---> 99\u001b[0;31m     \u001b[0;32mraise\u001b[0m \u001b[0mValueError\u001b[0m\u001b[0;34m(\u001b[0m\u001b[0;34m'Mountpoint must not contain a space.'\u001b[0m\u001b[0;34m)\u001b[0m\u001b[0;34m\u001b[0m\u001b[0;34m\u001b[0m\u001b[0m\n\u001b[0m\u001b[1;32m    100\u001b[0m \u001b[0;34m\u001b[0m\u001b[0m\n\u001b[1;32m    101\u001b[0m   \u001b[0mmountpoint\u001b[0m \u001b[0;34m=\u001b[0m \u001b[0m_os\u001b[0m\u001b[0;34m.\u001b[0m\u001b[0mpath\u001b[0m\u001b[0;34m.\u001b[0m\u001b[0mexpanduser\u001b[0m\u001b[0;34m(\u001b[0m\u001b[0mmountpoint\u001b[0m\u001b[0;34m)\u001b[0m\u001b[0;34m\u001b[0m\u001b[0;34m\u001b[0m\u001b[0m\n",
            "\u001b[0;31mValueError\u001b[0m: Mountpoint must not contain a space."
          ]
        }
      ]
    },
    {
      "cell_type": "code",
      "metadata": {
        "id": "tccohDOeKrn5",
        "colab_type": "code",
        "colab": {}
      },
      "source": [
        "# from konlpy.tag import Mecab\n",
        "# mecab = Mecab()"
      ],
      "execution_count": 0,
      "outputs": []
    },
    {
      "cell_type": "code",
      "metadata": {
        "id": "plfTVr5jCwJF",
        "colab_type": "code",
        "outputId": "6dc27e0e-1c51-4c83-9511-22776396d4f8",
        "colab": {
          "base_uri": "https://localhost:8080/",
          "height": 34
        }
      },
      "source": [
        ""
      ],
      "execution_count": 0,
      "outputs": [
        {
          "output_type": "stream",
          "text": [
            "/\n"
          ],
          "name": "stdout"
        }
      ]
    },
    {
      "cell_type": "code",
      "metadata": {
        "id": "mVNCo84DzhnQ",
        "colab_type": "code",
        "outputId": "721e0c4d-a352-471d-d768-415582c612e8",
        "colab": {
          "base_uri": "https://localhost:8080/",
          "height": 34
        }
      },
      "source": [
        "ls"
      ],
      "execution_count": 0,
      "outputs": [
        {
          "output_type": "stream",
          "text": [
            "\u001b[0m\u001b[01;34mgdrive\u001b[0m/  \u001b[01;34msample_data\u001b[0m/\n"
          ],
          "name": "stdout"
        }
      ]
    },
    {
      "cell_type": "code",
      "metadata": {
        "id": "a0sgw5MaArD-",
        "colab_type": "code",
        "outputId": "5ff138b5-2220-47f5-e83f-eedafd84f2d9",
        "colab": {
          "base_uri": "https://localhost:8080/",
          "height": 34
        }
      },
      "source": [
        "cd gdrive/My\\ Drive/kb_data"
      ],
      "execution_count": 0,
      "outputs": [
        {
          "output_type": "stream",
          "text": [
            "/content/gdrive/My Drive/kb_data\n"
          ],
          "name": "stdout"
        }
      ]
    },
    {
      "cell_type": "code",
      "metadata": {
        "id": "sRtbJglpHw-p",
        "colab_type": "code",
        "colab": {}
      },
      "source": [
        "prepared_train = pd.read_csv('prepared_train.csv', encoding='utf-8')"
      ],
      "execution_count": 0,
      "outputs": []
    },
    {
      "cell_type": "code",
      "metadata": {
        "id": "PmldWIDJNYol",
        "colab_type": "code",
        "colab": {}
      },
      "source": [
        "del prepared_train['Unnamed: 0']"
      ],
      "execution_count": 0,
      "outputs": []
    },
    {
      "cell_type": "code",
      "metadata": {
        "id": "jhy9RkwctOOP",
        "colab_type": "code",
        "outputId": "af89dc69-53b4-48e2-c760-59ce7f6aa9f6",
        "colab": {
          "base_uri": "https://localhost:8080/",
          "height": 52
        }
      },
      "source": [
        "%%time\n",
        "vec_train = vectorizer.fit_transform(prepared_train['orgin'])"
      ],
      "execution_count": 0,
      "outputs": [
        {
          "output_type": "stream",
          "text": [
            "CPU times: user 48.8 s, sys: 1.46 s, total: 50.3 s\n",
            "Wall time: 50.3 s\n"
          ],
          "name": "stdout"
        }
      ]
    },
    {
      "cell_type": "markdown",
      "metadata": {
        "id": "1zRAraH8GMU1",
        "colab_type": "text"
      },
      "source": [
        "# LightGBM 모델링\n"
      ]
    },
    {
      "cell_type": "code",
      "metadata": {
        "id": "lbJIttvPHNxp",
        "colab_type": "code",
        "colab": {}
      },
      "source": [
        "from sklearn.model_selection import train_test_split\n",
        "from sklearn.model_selection import KFold\n",
        "from lightgbm import LGBMClassifier\n",
        "import lightgbm\n",
        "import joblib"
      ],
      "execution_count": 0,
      "outputs": []
    },
    {
      "cell_type": "code",
      "metadata": {
        "id": "yzepzWaEGQeo",
        "colab_type": "code",
        "colab": {}
      },
      "source": [
        "#X_train = prepared_train.drop(['year_month', 'text', 'morph', 'orgin', 'smishing'], axis='columns')\n",
        "X_origin = vec_train\n",
        "Y_label = prepared_train['smishing']"
      ],
      "execution_count": 0,
      "outputs": []
    },
    {
      "cell_type": "code",
      "metadata": {
        "id": "pOKP64-g0Od1",
        "colab_type": "code",
        "outputId": "748bfd57-9dd0-4d7b-baea-a356435c0720",
        "colab": {
          "base_uri": "https://localhost:8080/",
          "height": 52
        }
      },
      "source": [
        "# train - test 분류\n",
        "# 인덱싱 문제로 순서대로 train / test split\n",
        "%%time\n",
        "X_train, X_test, Y_train, Y_test = train_test_split(X_origin,\n",
        "                                                    Y_label,\n",
        "                                                    test_size = 0.2,\n",
        "                                                    shuffle = False)\n",
        "                                                    # random_state = 1825)"
      ],
      "execution_count": 0,
      "outputs": [
        {
          "output_type": "stream",
          "text": [
            "CPU times: user 45.5 ms, sys: 0 ns, total: 45.5 ms\n",
            "Wall time: 45.3 ms\n"
          ],
          "name": "stdout"
        }
      ]
    },
    {
      "cell_type": "code",
      "metadata": {
        "id": "d7nJrWZRt8x3",
        "colab_type": "code",
        "outputId": "c8b62d6c-3197-45b8-c86b-32a35a66f60f",
        "colab": {
          "base_uri": "https://localhost:8080/",
          "height": 1000
        }
      },
      "source": [
        "# 4FOLD, 3SEED ENSEMBLE\n",
        "# 총 12개의 모델을 평균내어 예측한다\n",
        "%%time\n",
        "#lucky_seed=[1996, 8, 25]\n",
        "lucky_seed = [5, 8 , 10]\n",
        "\n",
        "# enumerate: 인덱스와 값을 둘다 반복시킬 때 사용\n",
        "for num,rs in tqdm(enumerate(lucky_seed)):\n",
        "\n",
        "\n",
        "    kfold = KFold(n_splits=4, random_state = rs, shuffle = True)\n",
        "\n",
        "    # numpy.zeros((row,col))\n",
        "    # row*col size 영행렬 생성\n",
        "    # train.shape[0],198 -> trainset 41400개, target값:198개\n",
        "    cv=np.zeros((X_train.shape[0],2))\n",
        "\n",
        "    for n, (train_idx, validation_idx) in tqdm(enumerate(kfold.split(X_train))):\n",
        "        print(train_idx, validation_idx)\n",
        "        x_train, x_validation = X_train[train_idx], X_train[validation_idx]\n",
        "        y_train, y_validation = Y_train.loc[train_idx], Y_train.loc[validation_idx]\n",
        "\n",
        "        lgbm = LGBMClassifier(n_estimators=380,\n",
        "                     learning_rate=0.035,\n",
        "                     max_depth=7,\n",
        "                     min_child_samples=50,\n",
        "                     random_state=4321)\n",
        "        \n",
        "        lgbm.fit(x_train, y_train, eval_set=[(x_validation, y_validation)], early_stopping_rounds= 30, verbose=100) \n",
        "\n",
        "        # 모델결과 저장 lib\n",
        "        joblib.dump(lgbm, 'models/%s_fold_model_%s.pkl'%(n,rs))\n",
        "\n",
        "        # numpy.zeros((row,col))로 만들어주었던 영행렬: cv\n",
        "        # data object에 X_validation 예측 값을 넣어줌\n",
        "        # CROSS-VALIDATION , EVALUATE CV\n",
        "        cv[validation_idx,:] = lgbm.predict_proba(x_validation)\n",
        "        "
      ],
      "execution_count": 0,
      "outputs": [
        {
          "output_type": "stream",
          "text": [
            "\n",
            "\n",
            "0it [00:00, ?it/s]\u001b[A\u001b[A\n",
            "\n",
            "\n",
            "0it [00:00, ?it/s]\u001b[A\u001b[A\u001b[A"
          ],
          "name": "stderr"
        },
        {
          "output_type": "stream",
          "text": [
            "[     0      1      2 ... 236753 236754 236755] [     3      4     13 ... 236732 236735 236751]\n",
            "Training until validation scores don't improve for 30 rounds.\n",
            "[100]\tvalid_0's binary_logloss: 0.00425152\n",
            "[200]\tvalid_0's binary_logloss: 0.000904433\n",
            "[300]\tvalid_0's binary_logloss: 0.000541626\n",
            "Did not meet early stopping. Best iteration is:\n",
            "[380]\tvalid_0's binary_logloss: 0.000435982\n"
          ],
          "name": "stdout"
        },
        {
          "output_type": "stream",
          "text": [
            "\n",
            "\n",
            "\n",
            "1it [01:29, 89.76s/it]\u001b[A\u001b[A\u001b[A"
          ],
          "name": "stderr"
        },
        {
          "output_type": "stream",
          "text": [
            "[     0      1      2 ... 236751 236752 236754] [    12     14     27 ... 236748 236753 236755]\n",
            "Training until validation scores don't improve for 30 rounds.\n",
            "[100]\tvalid_0's binary_logloss: 0.00439705\n",
            "[200]\tvalid_0's binary_logloss: 0.0011436\n",
            "[300]\tvalid_0's binary_logloss: 0.000804013\n",
            "Did not meet early stopping. Best iteration is:\n",
            "[379]\tvalid_0's binary_logloss: 0.000755107\n"
          ],
          "name": "stdout"
        },
        {
          "output_type": "stream",
          "text": [
            "\n",
            "\n",
            "\n",
            "2it [02:58, 89.49s/it]\u001b[A\u001b[A\u001b[A"
          ],
          "name": "stderr"
        },
        {
          "output_type": "stream",
          "text": [
            "[     0      2      3 ... 236753 236754 236755] [     1      5      7 ... 236744 236745 236750]\n",
            "Training until validation scores don't improve for 30 rounds.\n",
            "[100]\tvalid_0's binary_logloss: 0.00391277\n",
            "[200]\tvalid_0's binary_logloss: 0.000723647\n",
            "[300]\tvalid_0's binary_logloss: 0.000436902\n",
            "Did not meet early stopping. Best iteration is:\n",
            "[378]\tvalid_0's binary_logloss: 0.00038919\n"
          ],
          "name": "stdout"
        },
        {
          "output_type": "stream",
          "text": [
            "\n",
            "\n",
            "\n",
            "3it [04:27, 89.26s/it]\u001b[A\u001b[A\u001b[A"
          ],
          "name": "stderr"
        },
        {
          "output_type": "stream",
          "text": [
            "[     1      3      4 ... 236751 236753 236755] [     0      2      6 ... 236749 236752 236754]\n",
            "Training until validation scores don't improve for 30 rounds.\n",
            "[100]\tvalid_0's binary_logloss: 0.00476046\n",
            "[200]\tvalid_0's binary_logloss: 0.00156853\n",
            "[300]\tvalid_0's binary_logloss: 0.00126015\n",
            "Did not meet early stopping. Best iteration is:\n",
            "[379]\tvalid_0's binary_logloss: 0.00120957\n"
          ],
          "name": "stdout"
        },
        {
          "output_type": "stream",
          "text": [
            "\n",
            "\n",
            "\n",
            "4it [05:56, 89.13s/it]\n",
            "\n",
            "\n",
            "1it [05:56, 356.54s/it]\u001b[A\u001b[A\n",
            "\n",
            "\n",
            "0it [00:00, ?it/s]\u001b[A\u001b[A\u001b[A"
          ],
          "name": "stderr"
        },
        {
          "output_type": "stream",
          "text": [
            "[     2      3      5 ... 236752 236754 236755] [     0      1      4 ... 236748 236751 236753]\n",
            "Training until validation scores don't improve for 30 rounds.\n",
            "[100]\tvalid_0's binary_logloss: 0.00421\n",
            "[200]\tvalid_0's binary_logloss: 0.00111194\n",
            "[300]\tvalid_0's binary_logloss: 0.000820891\n",
            "Did not meet early stopping. Best iteration is:\n",
            "[369]\tvalid_0's binary_logloss: 0.000779575\n"
          ],
          "name": "stdout"
        },
        {
          "output_type": "stream",
          "text": [
            "\n",
            "\n",
            "\n",
            "1it [01:30, 90.69s/it]\u001b[A\u001b[A\u001b[A"
          ],
          "name": "stderr"
        },
        {
          "output_type": "stream",
          "text": [
            "[     0      1      3 ... 236751 236753 236754] [     2      9     10 ... 236745 236752 236755]\n",
            "Training until validation scores don't improve for 30 rounds.\n",
            "[100]\tvalid_0's binary_logloss: 0.00396629\n",
            "[200]\tvalid_0's binary_logloss: 0.000816632\n",
            "[300]\tvalid_0's binary_logloss: 0.000489608\n",
            "Did not meet early stopping. Best iteration is:\n",
            "[380]\tvalid_0's binary_logloss: 0.00041545\n"
          ],
          "name": "stdout"
        },
        {
          "output_type": "stream",
          "text": [
            "\n",
            "\n",
            "\n",
            "2it [03:00, 90.31s/it]\u001b[A\u001b[A\u001b[A"
          ],
          "name": "stderr"
        },
        {
          "output_type": "stream",
          "text": [
            "[     0      1      2 ... 236752 236753 236755] [     3      5     14 ... 236749 236750 236754]\n",
            "Training until validation scores don't improve for 30 rounds.\n",
            "[100]\tvalid_0's binary_logloss: 0.00433441\n",
            "[200]\tvalid_0's binary_logloss: 0.00109567\n",
            "[300]\tvalid_0's binary_logloss: 0.000767643\n",
            "Did not meet early stopping. Best iteration is:\n",
            "[377]\tvalid_0's binary_logloss: 0.000720704\n"
          ],
          "name": "stdout"
        },
        {
          "output_type": "stream",
          "text": [
            "\n",
            "\n",
            "\n",
            "3it [04:28, 89.73s/it]\u001b[A\u001b[A\u001b[A"
          ],
          "name": "stderr"
        },
        {
          "output_type": "stream",
          "text": [
            "[     0      1      2 ... 236753 236754 236755] [     6      8     13 ... 236741 236742 236747]\n",
            "Training until validation scores don't improve for 30 rounds.\n",
            "[100]\tvalid_0's binary_logloss: 0.00476024\n",
            "[200]\tvalid_0's binary_logloss: 0.00151443\n",
            "[300]\tvalid_0's binary_logloss: 0.00118248\n",
            "Did not meet early stopping. Best iteration is:\n",
            "[380]\tvalid_0's binary_logloss: 0.0011207\n"
          ],
          "name": "stdout"
        },
        {
          "output_type": "stream",
          "text": [
            "\n",
            "\n",
            "\n",
            "4it [05:57, 89.29s/it]\n",
            "\n",
            "\n",
            "2it [11:53, 356.72s/it]\u001b[A\u001b[A\n",
            "\n",
            "\n",
            "0it [00:00, ?it/s]\u001b[A\u001b[A\u001b[A"
          ],
          "name": "stderr"
        },
        {
          "output_type": "stream",
          "text": [
            "[     2      4      6 ... 236752 236753 236754] [     0      1      3 ... 236742 236747 236755]\n",
            "Training until validation scores don't improve for 30 rounds.\n",
            "[100]\tvalid_0's binary_logloss: 0.00425928\n",
            "[200]\tvalid_0's binary_logloss: 0.00104061\n",
            "[300]\tvalid_0's binary_logloss: 0.000716262\n",
            "Did not meet early stopping. Best iteration is:\n",
            "[380]\tvalid_0's binary_logloss: 0.000633458\n"
          ],
          "name": "stdout"
        },
        {
          "output_type": "stream",
          "text": [
            "\n",
            "\n",
            "\n",
            "1it [01:29, 89.58s/it]\u001b[A\u001b[A\u001b[A"
          ],
          "name": "stderr"
        },
        {
          "output_type": "stream",
          "text": [
            "[     0      1      2 ... 236751 236752 236755] [     4     11     14 ... 236744 236753 236754]\n",
            "Training until validation scores don't improve for 30 rounds.\n",
            "[100]\tvalid_0's binary_logloss: 0.004189\n",
            "[200]\tvalid_0's binary_logloss: 0.000930921\n",
            "[300]\tvalid_0's binary_logloss: 0.000586358\n",
            "Did not meet early stopping. Best iteration is:\n",
            "[380]\tvalid_0's binary_logloss: 0.000529254\n"
          ],
          "name": "stdout"
        },
        {
          "output_type": "stream",
          "text": [
            "\n",
            "\n",
            "\n",
            "2it [02:58, 89.50s/it]\u001b[A\u001b[A\u001b[A"
          ],
          "name": "stderr"
        },
        {
          "output_type": "stream",
          "text": [
            "[     0      1      2 ... 236753 236754 236755] [     6      7      9 ... 236750 236751 236752]\n",
            "Training until validation scores don't improve for 30 rounds.\n",
            "[100]\tvalid_0's binary_logloss: 0.00464378\n",
            "[200]\tvalid_0's binary_logloss: 0.00122242\n",
            "[300]\tvalid_0's binary_logloss: 0.000793067\n",
            "Did not meet early stopping. Best iteration is:\n",
            "[380]\tvalid_0's binary_logloss: 0.000704476\n"
          ],
          "name": "stdout"
        },
        {
          "output_type": "stream",
          "text": [
            "\n",
            "\n",
            "\n",
            "3it [04:27, 89.24s/it]\u001b[A\u001b[A\u001b[A"
          ],
          "name": "stderr"
        },
        {
          "output_type": "stream",
          "text": [
            "[     0      1      3 ... 236753 236754 236755] [     2     10     12 ... 236733 236736 236740]\n",
            "Training until validation scores don't improve for 30 rounds.\n",
            "[100]\tvalid_0's binary_logloss: 0.00448373\n",
            "[200]\tvalid_0's binary_logloss: 0.00126232\n",
            "[300]\tvalid_0's binary_logloss: 0.00103876\n",
            "Early stopping, best iteration is:\n",
            "[343]\tvalid_0's binary_logloss: 0.00103236\n"
          ],
          "name": "stdout"
        },
        {
          "output_type": "stream",
          "text": [
            "\n",
            "\n",
            "\n",
            "4it [05:54, 88.70s/it]\n",
            "\n",
            "\n",
            "3it [17:48, 356.16s/it]\n"
          ],
          "name": "stderr"
        }
      ]
    },
    {
      "cell_type": "code",
      "metadata": {
        "id": "89XADH68y241",
        "colab_type": "code",
        "colab": {}
      },
      "source": [
        "# MODEL LOAD & TEST PREDICT\n",
        "# 12 MODELS 평균 사용\n",
        "models = os.listdir('models/')\n",
        "models_list = [x for x in models if x.endswith(\".pkl\")]\n",
        "\n",
        "# 모델결과가 잘 나왔는지 check\n",
        "# assert: 좌항과 우항의 값이 같으면 정상 작동, 다르면 오류 발생\n",
        "assert len(models_list) ==12\n",
        "\n",
        "\n",
        "temp_predictions = np.zeros((X_test.shape[0],2))\n",
        "\n",
        "# 12개 모델을 반복시켜서 결과산출 -> 12로 나눠서 평균값 계산\n",
        "for model in models_list:\n",
        "    model = joblib.load('models/'+model)\n",
        "    predict_proba = model.predict_proba(X_test)\n",
        "    temp_predictions += predict_proba/12"
      ],
      "execution_count": 0,
      "outputs": []
    },
    {
      "cell_type": "code",
      "metadata": {
        "id": "yADc9LIry2-R",
        "colab_type": "code",
        "colab": {}
      },
      "source": [
        "# dacon code\n",
        "submission = pd.DataFrame(data=np.zeros((X_test.shape[0],2)))\n",
        "submission.index = Y_test.index \n",
        "submission.index.name = 'id'\n",
        "submission+=temp_predictions\n",
        "\n",
        "submission = submission.sort_index()\n",
        "submission = submission.groupby('id').mean()\n",
        "submission.to_csv('submission.csv', index=True)"
      ],
      "execution_count": 0,
      "outputs": []
    },
    {
      "cell_type": "code",
      "metadata": {
        "id": "C2WfFxfsy28N",
        "colab_type": "code",
        "colab": {}
      },
      "source": [
        "submission['pred'] = 0"
      ],
      "execution_count": 0,
      "outputs": []
    },
    {
      "cell_type": "code",
      "metadata": {
        "id": "ACPLEidvIUrw",
        "colab_type": "code",
        "outputId": "a2af4637-f243-4dd1-ae82-67820313773e",
        "colab": {
          "base_uri": "https://localhost:8080/",
          "height": 105
        }
      },
      "source": [
        "for idx in submission.index:\n",
        "    if (submission[0][idx] < submission[1][idx]):\n",
        "        submission['pred'][idx]= 1"
      ],
      "execution_count": 0,
      "outputs": [
        {
          "output_type": "stream",
          "text": [
            "/usr/local/lib/python3.6/dist-packages/ipykernel_launcher.py:3: SettingWithCopyWarning: \n",
            "A value is trying to be set on a copy of a slice from a DataFrame\n",
            "\n",
            "See the caveats in the documentation: https://pandas.pydata.org/pandas-docs/stable/user_guide/indexing.html#returning-a-view-versus-a-copy\n",
            "  This is separate from the ipykernel package so we can avoid doing imports until\n"
          ],
          "name": "stderr"
        }
      ]
    },
    {
      "cell_type": "code",
      "metadata": {
        "id": "1fjzzoc-IUun",
        "colab_type": "code",
        "outputId": "6d3c147e-18f2-4031-9e2f-a6f30fb83a96",
        "colab": {
          "base_uri": "https://localhost:8080/",
          "height": 431
        }
      },
      "source": [
        "submission"
      ],
      "execution_count": 0,
      "outputs": [
        {
          "output_type": "execute_result",
          "data": {
            "text/html": [
              "<div>\n",
              "<style scoped>\n",
              "    .dataframe tbody tr th:only-of-type {\n",
              "        vertical-align: middle;\n",
              "    }\n",
              "\n",
              "    .dataframe tbody tr th {\n",
              "        vertical-align: top;\n",
              "    }\n",
              "\n",
              "    .dataframe thead th {\n",
              "        text-align: right;\n",
              "    }\n",
              "</style>\n",
              "<table border=\"1\" class=\"dataframe\">\n",
              "  <thead>\n",
              "    <tr style=\"text-align: right;\">\n",
              "      <th></th>\n",
              "      <th>0</th>\n",
              "      <th>1</th>\n",
              "      <th>pred</th>\n",
              "    </tr>\n",
              "    <tr>\n",
              "      <th>id</th>\n",
              "      <th></th>\n",
              "      <th></th>\n",
              "      <th></th>\n",
              "    </tr>\n",
              "  </thead>\n",
              "  <tbody>\n",
              "    <tr>\n",
              "      <th>236756</th>\n",
              "      <td>0.999994</td>\n",
              "      <td>0.000006</td>\n",
              "      <td>0</td>\n",
              "    </tr>\n",
              "    <tr>\n",
              "      <th>236757</th>\n",
              "      <td>0.999994</td>\n",
              "      <td>0.000006</td>\n",
              "      <td>0</td>\n",
              "    </tr>\n",
              "    <tr>\n",
              "      <th>236758</th>\n",
              "      <td>0.999994</td>\n",
              "      <td>0.000006</td>\n",
              "      <td>0</td>\n",
              "    </tr>\n",
              "    <tr>\n",
              "      <th>236759</th>\n",
              "      <td>0.999994</td>\n",
              "      <td>0.000006</td>\n",
              "      <td>0</td>\n",
              "    </tr>\n",
              "    <tr>\n",
              "      <th>236760</th>\n",
              "      <td>0.999995</td>\n",
              "      <td>0.000005</td>\n",
              "      <td>0</td>\n",
              "    </tr>\n",
              "    <tr>\n",
              "      <th>...</th>\n",
              "      <td>...</td>\n",
              "      <td>...</td>\n",
              "      <td>...</td>\n",
              "    </tr>\n",
              "    <tr>\n",
              "      <th>295940</th>\n",
              "      <td>0.999995</td>\n",
              "      <td>0.000005</td>\n",
              "      <td>0</td>\n",
              "    </tr>\n",
              "    <tr>\n",
              "      <th>295941</th>\n",
              "      <td>0.999994</td>\n",
              "      <td>0.000006</td>\n",
              "      <td>0</td>\n",
              "    </tr>\n",
              "    <tr>\n",
              "      <th>295942</th>\n",
              "      <td>0.999911</td>\n",
              "      <td>0.000089</td>\n",
              "      <td>0</td>\n",
              "    </tr>\n",
              "    <tr>\n",
              "      <th>295943</th>\n",
              "      <td>0.999996</td>\n",
              "      <td>0.000004</td>\n",
              "      <td>0</td>\n",
              "    </tr>\n",
              "    <tr>\n",
              "      <th>295944</th>\n",
              "      <td>0.999965</td>\n",
              "      <td>0.000035</td>\n",
              "      <td>0</td>\n",
              "    </tr>\n",
              "  </tbody>\n",
              "</table>\n",
              "<p>59189 rows × 3 columns</p>\n",
              "</div>"
            ],
            "text/plain": [
              "               0         1  pred\n",
              "id                              \n",
              "236756  0.999994  0.000006     0\n",
              "236757  0.999994  0.000006     0\n",
              "236758  0.999994  0.000006     0\n",
              "236759  0.999994  0.000006     0\n",
              "236760  0.999995  0.000005     0\n",
              "...          ...       ...   ...\n",
              "295940  0.999995  0.000005     0\n",
              "295941  0.999994  0.000006     0\n",
              "295942  0.999911  0.000089     0\n",
              "295943  0.999996  0.000004     0\n",
              "295944  0.999965  0.000035     0\n",
              "\n",
              "[59189 rows x 3 columns]"
            ]
          },
          "metadata": {
            "tags": []
          },
          "execution_count": 90
        }
      ]
    },
    {
      "cell_type": "code",
      "metadata": {
        "id": "uukwOlqealpy",
        "colab_type": "code",
        "colab": {}
      },
      "source": [
        "from sklearn.metrics import classification_report"
      ],
      "execution_count": 0,
      "outputs": []
    },
    {
      "cell_type": "code",
      "metadata": {
        "id": "9DhFNuO9alt_",
        "colab_type": "code",
        "colab": {}
      },
      "source": [
        "result = classification_report(Y_test, submission['pred'], target_names=['normal','smishing'])"
      ],
      "execution_count": 0,
      "outputs": []
    },
    {
      "cell_type": "code",
      "metadata": {
        "id": "qFGnI5ENamEi",
        "colab_type": "code",
        "outputId": "207dbd10-0ee8-4b2b-d585-38359393336a",
        "colab": {
          "base_uri": "https://localhost:8080/",
          "height": 175
        }
      },
      "source": [
        "print(result)"
      ],
      "execution_count": 0,
      "outputs": [
        {
          "output_type": "stream",
          "text": [
            "              precision    recall  f1-score   support\n",
            "\n",
            "      normal       1.00      1.00      1.00     51205\n",
            "    smishing       1.00      0.97      0.99      7984\n",
            "\n",
            "    accuracy                           1.00     59189\n",
            "   macro avg       1.00      0.99      0.99     59189\n",
            "weighted avg       1.00      1.00      1.00     59189\n",
            "\n"
          ],
          "name": "stdout"
        }
      ]
    },
    {
      "cell_type": "code",
      "metadata": {
        "id": "n6EBbEblamHu",
        "colab_type": "code",
        "colab": {}
      },
      "source": [
        ""
      ],
      "execution_count": 0,
      "outputs": []
    },
    {
      "cell_type": "code",
      "metadata": {
        "id": "nWLlUTZQcCbd",
        "colab_type": "code",
        "colab": {}
      },
      "source": [
        "from sklearn.metrics import accuracy_score"
      ],
      "execution_count": 0,
      "outputs": []
    },
    {
      "cell_type": "code",
      "metadata": {
        "id": "AVzvoXElcCfd",
        "colab_type": "code",
        "outputId": "fae12ae7-5f17-43e3-f451-0dab9fa09be5",
        "colab": {
          "base_uri": "https://localhost:8080/",
          "height": 34
        }
      },
      "source": [
        "accuracy_score(Y_test, submission['pred'])"
      ],
      "execution_count": 0,
      "outputs": [
        {
          "output_type": "execute_result",
          "data": {
            "text/plain": [
              "0.9961310378617648"
            ]
          },
          "metadata": {
            "tags": []
          },
          "execution_count": 102
        }
      ]
    },
    {
      "cell_type": "code",
      "metadata": {
        "id": "fO-ng9kCcCix",
        "colab_type": "code",
        "outputId": "b81e97e3-6d8c-4a4d-935c-03991caed6c7",
        "colab": {
          "base_uri": "https://localhost:8080/",
          "height": 34
        }
      },
      "source": [
        "accuracy_score(Y_test, submission['pred'], normalize=False)"
      ],
      "execution_count": 0,
      "outputs": [
        {
          "output_type": "execute_result",
          "data": {
            "text/plain": [
              "58960"
            ]
          },
          "metadata": {
            "tags": []
          },
          "execution_count": 101
        }
      ]
    },
    {
      "cell_type": "code",
      "metadata": {
        "id": "mc33Kym5cCl1",
        "colab_type": "code",
        "outputId": "208a8be4-c2dd-4d69-d1c5-d8add6ee53f1",
        "colab": {
          "base_uri": "https://localhost:8080/",
          "height": 34
        }
      },
      "source": [
        "len(Y_test)"
      ],
      "execution_count": 0,
      "outputs": [
        {
          "output_type": "execute_result",
          "data": {
            "text/plain": [
              "59189"
            ]
          },
          "metadata": {
            "tags": []
          },
          "execution_count": 103
        }
      ]
    },
    {
      "cell_type": "code",
      "metadata": {
        "id": "-os2zAWPalnT",
        "colab_type": "code",
        "colab": {}
      },
      "source": [
        ""
      ],
      "execution_count": 0,
      "outputs": []
    },
    {
      "cell_type": "markdown",
      "metadata": {
        "id": "FZQs8zNdaljH",
        "colab_type": "text"
      },
      "source": [
        "# Support Vector Machine\n"
      ]
    },
    {
      "cell_type": "code",
      "metadata": {
        "id": "OQmcm8UFEJBw",
        "colab_type": "code",
        "colab": {}
      },
      "source": [
        "from sklearn import svm"
      ],
      "execution_count": 0,
      "outputs": []
    },
    {
      "cell_type": "code",
      "metadata": {
        "id": "iJQHMJblIU2C",
        "colab_type": "code",
        "outputId": "1f2aa65d-d9eb-40f6-d5b4-78757ec7b08e",
        "colab": {
          "base_uri": "https://localhost:8080/",
          "height": 442
        }
      },
      "source": [
        "%%time\n",
        "# 4FOLD, 3SEED ENSEMBLE\n",
        "# 총 12개의 모델을 평균내어 예측한다\n",
        "\n",
        "#lucky_seed=[1996, 8, 25]\n",
        "lucky_seed = [5, 8 , 10]\n",
        "\n",
        "# enumerate: 인덱스와 값을 둘다 반복시킬 때 사용\n",
        "for num,rs in tqdm(enumerate(lucky_seed)):\n",
        "\n",
        "\n",
        "    kfold = KFold(n_splits=4, random_state = rs, shuffle = True)\n",
        "\n",
        "    # numpy.zeros((row,col))\n",
        "    # row*col size 영행렬 생성\n",
        "    # train.shape[0],198 -> trainset 41400개, target값:198개\n",
        "    cv=np.zeros((X_train.shape[0],2))\n",
        "\n",
        "    for n, (train_idx, validation_idx) in tqdm(enumerate(kfold.split(X_train))):\n",
        "        \n",
        "        x_train, x_validation = X_train[train_idx], X_train[validation_idx]\n",
        "        y_train, y_validation = Y_train.loc[train_idx], Y_train.loc[validation_idx]\n",
        "\n",
        "        svm_model = svm.SVC(kernel='linear',\n",
        "                            class_weight='balanced',\n",
        "                            random_state=4321)\n",
        "        \n",
        "        svm_model.fit(x_train, y_train) \n",
        "\n",
        "        # 모델결과 저장 lib\n",
        "        joblib.dump(svm_model, 'svm_models/%s_fold_model_%s.pkl'%(n,rs))\n",
        "\n",
        "        # numpy.zeros((row,col))로 만들어주었던 영행렬: cv\n",
        "        # data object에 X_validation 예측 값을 넣어줌\n",
        "        # CROSS-VALIDATION , EVALUATE CV\n",
        "        cv[validation_idx,:] = svm_model.predict_proba(x_validation)\n",
        "        "
      ],
      "execution_count": 0,
      "outputs": [
        {
          "output_type": "stream",
          "text": [
            "0it [00:00, ?it/s]\n",
            "0it [00:00, ?it/s]\u001b[A"
          ],
          "name": "stderr"
        },
        {
          "output_type": "error",
          "ename": "AttributeError",
          "evalue": "ignored",
          "traceback": [
            "\u001b[0;31m---------------------------------------------------------------------------\u001b[0m",
            "\u001b[0;31mAttributeError\u001b[0m                            Traceback (most recent call last)",
            "\u001b[0;32m<ipython-input-16-f290fceee608>\u001b[0m in \u001b[0;36m<module>\u001b[0;34m()\u001b[0m\n\u001b[0;32m----> 1\u001b[0;31m \u001b[0mget_ipython\u001b[0m\u001b[0;34m(\u001b[0m\u001b[0;34m)\u001b[0m\u001b[0;34m.\u001b[0m\u001b[0mrun_cell_magic\u001b[0m\u001b[0;34m(\u001b[0m\u001b[0;34m'time'\u001b[0m\u001b[0;34m,\u001b[0m \u001b[0;34m''\u001b[0m\u001b[0;34m,\u001b[0m \u001b[0;34m\"# 4FOLD, 3SEED ENSEMBLE\\n# 총 12개의 모델을 평균내어 예측한다\\n\\n#lucky_seed=[1996, 8, 25]\\nlucky_seed = [5, 8 , 10]\\n\\n# enumerate: 인덱스와 값을 둘다 반복시킬 때 사용\\nfor num,rs in tqdm(enumerate(lucky_seed)):\\n\\n\\n    kfold = KFold(n_splits=4, random_state = rs, shuffle = True)\\n\\n    # numpy.zeros((row,col))\\n    # row*col size 영행렬 생성\\n    # train.shape[0],198 -> trainset 41400개, target값:198개\\n    cv=np.zeros((X_train.shape[0],2))\\n\\n    for n, (train_idx, validation_idx) in tqdm(enumerate(kfold.split(X_train))):\\n        \\n        x_train, x_validation = X_train[train_idx], X_train[validation_idx]\\n        y_train, y_validation = Y_train.loc[train_idx], Y_train.loc[validation_idx]\\n\\n        svm_model = svm.SVC(kernel='linear',\\n                            class_weight='balanced',\\n                            random_state=4321)\\n        \\n        svm_model.fit(x_train, y_train) \\n\\n        # 모델결과 저장 lib\\n        joblib.dump(svm_model, 'svm_models/%s_fold_model_%s.pkl'%(n,rs))\\n\\n        # numpy.zeros((row,col))로 만들어주었던 영행렬: cv\\n        # data object에 X_validation 예측 값을 넣어줌\\n        # CROSS-VALIDATION , EVALUATE CV\\n        cv[validation_idx,:] = svm_model.predict_proba(x_validation)\\n        \"\u001b[0m\u001b[0;34m)\u001b[0m\u001b[0;34m\u001b[0m\u001b[0;34m\u001b[0m\u001b[0m\n\u001b[0m",
            "\u001b[0;32m/usr/local/lib/python3.6/dist-packages/IPython/core/interactiveshell.py\u001b[0m in \u001b[0;36mrun_cell_magic\u001b[0;34m(self, magic_name, line, cell)\u001b[0m\n\u001b[1;32m   2115\u001b[0m             \u001b[0mmagic_arg_s\u001b[0m \u001b[0;34m=\u001b[0m \u001b[0mself\u001b[0m\u001b[0;34m.\u001b[0m\u001b[0mvar_expand\u001b[0m\u001b[0;34m(\u001b[0m\u001b[0mline\u001b[0m\u001b[0;34m,\u001b[0m \u001b[0mstack_depth\u001b[0m\u001b[0;34m)\u001b[0m\u001b[0;34m\u001b[0m\u001b[0;34m\u001b[0m\u001b[0m\n\u001b[1;32m   2116\u001b[0m             \u001b[0;32mwith\u001b[0m \u001b[0mself\u001b[0m\u001b[0;34m.\u001b[0m\u001b[0mbuiltin_trap\u001b[0m\u001b[0;34m:\u001b[0m\u001b[0;34m\u001b[0m\u001b[0;34m\u001b[0m\u001b[0m\n\u001b[0;32m-> 2117\u001b[0;31m                 \u001b[0mresult\u001b[0m \u001b[0;34m=\u001b[0m \u001b[0mfn\u001b[0m\u001b[0;34m(\u001b[0m\u001b[0mmagic_arg_s\u001b[0m\u001b[0;34m,\u001b[0m \u001b[0mcell\u001b[0m\u001b[0;34m)\u001b[0m\u001b[0;34m\u001b[0m\u001b[0;34m\u001b[0m\u001b[0m\n\u001b[0m\u001b[1;32m   2118\u001b[0m             \u001b[0;32mreturn\u001b[0m \u001b[0mresult\u001b[0m\u001b[0;34m\u001b[0m\u001b[0;34m\u001b[0m\u001b[0m\n\u001b[1;32m   2119\u001b[0m \u001b[0;34m\u001b[0m\u001b[0m\n",
            "\u001b[0;32m<decorator-gen-60>\u001b[0m in \u001b[0;36mtime\u001b[0;34m(self, line, cell, local_ns)\u001b[0m\n",
            "\u001b[0;32m/usr/local/lib/python3.6/dist-packages/IPython/core/magic.py\u001b[0m in \u001b[0;36m<lambda>\u001b[0;34m(f, *a, **k)\u001b[0m\n\u001b[1;32m    186\u001b[0m     \u001b[0;31m# but it's overkill for just that one bit of state.\u001b[0m\u001b[0;34m\u001b[0m\u001b[0;34m\u001b[0m\u001b[0;34m\u001b[0m\u001b[0m\n\u001b[1;32m    187\u001b[0m     \u001b[0;32mdef\u001b[0m \u001b[0mmagic_deco\u001b[0m\u001b[0;34m(\u001b[0m\u001b[0marg\u001b[0m\u001b[0;34m)\u001b[0m\u001b[0;34m:\u001b[0m\u001b[0;34m\u001b[0m\u001b[0;34m\u001b[0m\u001b[0m\n\u001b[0;32m--> 188\u001b[0;31m         \u001b[0mcall\u001b[0m \u001b[0;34m=\u001b[0m \u001b[0;32mlambda\u001b[0m \u001b[0mf\u001b[0m\u001b[0;34m,\u001b[0m \u001b[0;34m*\u001b[0m\u001b[0ma\u001b[0m\u001b[0;34m,\u001b[0m \u001b[0;34m**\u001b[0m\u001b[0mk\u001b[0m\u001b[0;34m:\u001b[0m \u001b[0mf\u001b[0m\u001b[0;34m(\u001b[0m\u001b[0;34m*\u001b[0m\u001b[0ma\u001b[0m\u001b[0;34m,\u001b[0m \u001b[0;34m**\u001b[0m\u001b[0mk\u001b[0m\u001b[0;34m)\u001b[0m\u001b[0;34m\u001b[0m\u001b[0;34m\u001b[0m\u001b[0m\n\u001b[0m\u001b[1;32m    189\u001b[0m \u001b[0;34m\u001b[0m\u001b[0m\n\u001b[1;32m    190\u001b[0m         \u001b[0;32mif\u001b[0m \u001b[0mcallable\u001b[0m\u001b[0;34m(\u001b[0m\u001b[0marg\u001b[0m\u001b[0;34m)\u001b[0m\u001b[0;34m:\u001b[0m\u001b[0;34m\u001b[0m\u001b[0;34m\u001b[0m\u001b[0m\n",
            "\u001b[0;32m/usr/local/lib/python3.6/dist-packages/IPython/core/magics/execution.py\u001b[0m in \u001b[0;36mtime\u001b[0;34m(self, line, cell, local_ns)\u001b[0m\n\u001b[1;32m   1191\u001b[0m         \u001b[0;32melse\u001b[0m\u001b[0;34m:\u001b[0m\u001b[0;34m\u001b[0m\u001b[0;34m\u001b[0m\u001b[0m\n\u001b[1;32m   1192\u001b[0m             \u001b[0mst\u001b[0m \u001b[0;34m=\u001b[0m \u001b[0mclock2\u001b[0m\u001b[0;34m(\u001b[0m\u001b[0;34m)\u001b[0m\u001b[0;34m\u001b[0m\u001b[0;34m\u001b[0m\u001b[0m\n\u001b[0;32m-> 1193\u001b[0;31m             \u001b[0mexec\u001b[0m\u001b[0;34m(\u001b[0m\u001b[0mcode\u001b[0m\u001b[0;34m,\u001b[0m \u001b[0mglob\u001b[0m\u001b[0;34m,\u001b[0m \u001b[0mlocal_ns\u001b[0m\u001b[0;34m)\u001b[0m\u001b[0;34m\u001b[0m\u001b[0;34m\u001b[0m\u001b[0m\n\u001b[0m\u001b[1;32m   1194\u001b[0m             \u001b[0mend\u001b[0m \u001b[0;34m=\u001b[0m \u001b[0mclock2\u001b[0m\u001b[0;34m(\u001b[0m\u001b[0;34m)\u001b[0m\u001b[0;34m\u001b[0m\u001b[0;34m\u001b[0m\u001b[0m\n\u001b[1;32m   1195\u001b[0m             \u001b[0mout\u001b[0m \u001b[0;34m=\u001b[0m \u001b[0;32mNone\u001b[0m\u001b[0;34m\u001b[0m\u001b[0;34m\u001b[0m\u001b[0m\n",
            "\u001b[0;32m<timed exec>\u001b[0m in \u001b[0;36m<module>\u001b[0;34m()\u001b[0m\n",
            "\u001b[0;32m/usr/local/lib/python3.6/dist-packages/sklearn/svm/_base.py\u001b[0m in \u001b[0;36mpredict_proba\u001b[0;34m(self)\u001b[0m\n\u001b[1;32m    634\u001b[0m         \u001b[0mdatasets\u001b[0m\u001b[0;34m.\u001b[0m\u001b[0;34m\u001b[0m\u001b[0;34m\u001b[0m\u001b[0m\n\u001b[1;32m    635\u001b[0m         \"\"\"\n\u001b[0;32m--> 636\u001b[0;31m         \u001b[0mself\u001b[0m\u001b[0;34m.\u001b[0m\u001b[0m_check_proba\u001b[0m\u001b[0;34m(\u001b[0m\u001b[0;34m)\u001b[0m\u001b[0;34m\u001b[0m\u001b[0;34m\u001b[0m\u001b[0m\n\u001b[0m\u001b[1;32m    637\u001b[0m         \u001b[0;32mreturn\u001b[0m \u001b[0mself\u001b[0m\u001b[0;34m.\u001b[0m\u001b[0m_predict_proba\u001b[0m\u001b[0;34m\u001b[0m\u001b[0;34m\u001b[0m\u001b[0m\n\u001b[1;32m    638\u001b[0m \u001b[0;34m\u001b[0m\u001b[0m\n",
            "\u001b[0;32m/usr/local/lib/python3.6/dist-packages/sklearn/svm/_base.py\u001b[0m in \u001b[0;36m_check_proba\u001b[0;34m(self)\u001b[0m\n\u001b[1;32m    601\u001b[0m     \u001b[0;32mdef\u001b[0m \u001b[0m_check_proba\u001b[0m\u001b[0;34m(\u001b[0m\u001b[0mself\u001b[0m\u001b[0;34m)\u001b[0m\u001b[0;34m:\u001b[0m\u001b[0;34m\u001b[0m\u001b[0;34m\u001b[0m\u001b[0m\n\u001b[1;32m    602\u001b[0m         \u001b[0;32mif\u001b[0m \u001b[0;32mnot\u001b[0m \u001b[0mself\u001b[0m\u001b[0;34m.\u001b[0m\u001b[0mprobability\u001b[0m\u001b[0;34m:\u001b[0m\u001b[0;34m\u001b[0m\u001b[0;34m\u001b[0m\u001b[0m\n\u001b[0;32m--> 603\u001b[0;31m             raise AttributeError(\"predict_proba is not available when \"\n\u001b[0m\u001b[1;32m    604\u001b[0m                                  \" probability=False\")\n\u001b[1;32m    605\u001b[0m         \u001b[0;32mif\u001b[0m \u001b[0mself\u001b[0m\u001b[0;34m.\u001b[0m\u001b[0m_impl\u001b[0m \u001b[0;32mnot\u001b[0m \u001b[0;32min\u001b[0m \u001b[0;34m(\u001b[0m\u001b[0;34m'c_svc'\u001b[0m\u001b[0;34m,\u001b[0m \u001b[0;34m'nu_svc'\u001b[0m\u001b[0;34m)\u001b[0m\u001b[0;34m:\u001b[0m\u001b[0;34m\u001b[0m\u001b[0;34m\u001b[0m\u001b[0m\n",
            "\u001b[0;31mAttributeError\u001b[0m: predict_proba is not available when  probability=False"
          ]
        }
      ]
    },
    {
      "cell_type": "markdown",
      "metadata": {
        "id": "Ua_bMeGTNB88",
        "colab_type": "text"
      },
      "source": [
        "### 위 모델 안되는 이유\n",
        ": https://stackoverflow.com/questions/43036711/scikit-learn-svc-predict-probability-doesnt-work-as-expected"
      ]
    },
    {
      "cell_type": "code",
      "metadata": {
        "id": "xrB8k0VqIU6B",
        "colab_type": "code",
        "colab": {}
      },
      "source": [
        "from sklearn.calibration import CalibratedClassifierCV\n",
        "from sklearn.svm import LinearSVC"
      ],
      "execution_count": 0,
      "outputs": []
    },
    {
      "cell_type": "code",
      "metadata": {
        "id": "SrXnec4wEJGU",
        "colab_type": "code",
        "outputId": "7cf3f925-11ce-4743-d81f-e26665fca422",
        "colab": {
          "base_uri": "https://localhost:8080/",
          "height": 1000
        }
      },
      "source": [
        "%%time\n",
        "# 4FOLD, 3SEED ENSEMBLE\n",
        "# 총 12개의 모델을 평균내어 예측한다\n",
        "\n",
        "#lucky_seed=[1996, 8, 25]\n",
        "lucky_seed = [5, 8 , 10]\n",
        "\n",
        "# enumerate: 인덱스와 값을 둘다 반복시킬 때 사용\n",
        "for num,rs in tqdm(enumerate(lucky_seed)):\n",
        "\n",
        "\n",
        "    kfold = KFold(n_splits=4, random_state = rs, shuffle = True)\n",
        "\n",
        "    # numpy.zeros((row,col))\n",
        "    # row*col size 영행렬 생성\n",
        "    # train.shape[0],198 -> trainset 41400개, target값:198개\n",
        "    cv=np.zeros((X_train.shape[0],2))\n",
        "\n",
        "    for n, (train_idx, validation_idx) in tqdm(enumerate(kfold.split(X_train))):\n",
        "        \n",
        "        x_train, x_validation = X_train[train_idx], X_train[validation_idx]\n",
        "        y_train, y_validation = Y_train.loc[train_idx], Y_train.loc[validation_idx]\n",
        "        \n",
        "        model_svc = LinearSVC(class_weight='balanced',\n",
        "                              random_state=4321)\n",
        "        \n",
        "        svm_model = CalibratedClassifierCV(model_svc)\n",
        "\n",
        "        svm_model.fit(x_train, y_train) \n",
        "\n",
        "        # 모델결과 저장 lib\n",
        "        joblib.dump(svm_model, 'svm_models/%s_fold_model_%s.pkl'%(n,rs))\n",
        "\n",
        "        # numpy.zeros((row,col))로 만들어주었던 영행렬: cv\n",
        "        # data object에 X_validation 예측 값을 넣어줌\n",
        "        # CROSS-VALIDATION , EVALUATE CV\n",
        "        cv[validation_idx,:] = svm_model.predict_proba(x_validation)\n",
        "        "
      ],
      "execution_count": 0,
      "outputs": [
        {
          "output_type": "stream",
          "text": [
            "\n",
            "\n",
            "0it [00:00, ?it/s]\u001b[A\u001b[A\n",
            "\n",
            "\n",
            "0it [00:00, ?it/s]\u001b[A\u001b[A\u001b[A\n",
            "\n",
            "\n",
            "1it [00:05,  5.04s/it]\u001b[A\u001b[A\u001b[A\n",
            "\n",
            "\n",
            "2it [00:10,  5.02s/it]\u001b[A\u001b[A\u001b[A\n",
            "\n",
            "\n",
            "3it [00:15,  5.07s/it]\u001b[A\u001b[A\u001b[A\n",
            "\n",
            "\n",
            "4it [00:20,  5.09s/it]\n",
            "\n",
            "\n",
            "1it [00:20, 20.38s/it]\u001b[A\u001b[A\n",
            "\n",
            "\n",
            "0it [00:00, ?it/s]\u001b[A\u001b[A\u001b[A\n",
            "\n",
            "\n",
            "1it [00:05,  5.02s/it]\u001b[A\u001b[A\u001b[A\n",
            "\n",
            "\n",
            "2it [00:10,  5.03s/it]\u001b[A\u001b[A\u001b[A\n",
            "\n",
            "\n",
            "3it [00:15,  5.00s/it]\u001b[A\u001b[A\u001b[A\n",
            "\n",
            "\n",
            "4it [00:19,  4.92s/it]\n",
            "\n",
            "\n",
            "2it [00:40, 20.17s/it]\u001b[A\u001b[A\n",
            "\n",
            "\n",
            "0it [00:00, ?it/s]\u001b[A\u001b[A\u001b[A\n",
            "\n",
            "\n",
            "1it [00:05,  5.34s/it]\u001b[A\u001b[A\u001b[A\n",
            "\n",
            "\n",
            "2it [00:10,  5.27s/it]\u001b[A\u001b[A\u001b[A\n",
            "\n",
            "\n",
            "3it [00:15,  5.16s/it]\u001b[A\u001b[A\u001b[A\n",
            "\n",
            "\n",
            "4it [00:20,  5.10s/it]\n",
            "\n",
            "\n",
            "3it [01:00, 20.16s/it]"
          ],
          "name": "stderr"
        },
        {
          "output_type": "stream",
          "text": [
            "CPU times: user 1min 7s, sys: 38 s, total: 1min 45s\n",
            "Wall time: 1min\n"
          ],
          "name": "stdout"
        },
        {
          "output_type": "stream",
          "text": [
            "\n"
          ],
          "name": "stderr"
        }
      ]
    },
    {
      "cell_type": "code",
      "metadata": {
        "colab_type": "code",
        "id": "mr_-JKVeMOHm",
        "colab": {}
      },
      "source": [
        "# MODEL LOAD & TEST PREDICT\n",
        "# 12 MODELS 평균 사용\n",
        "models = os.listdir('svm_models/')\n",
        "models_list = [x for x in models if x.endswith(\".pkl\")]\n",
        "\n",
        "# 모델결과가 잘 나왔는지 check\n",
        "# assert: 좌항과 우항의 값이 같으면 정상 작동, 다르면 오류 발생\n",
        "assert len(models_list) ==12\n",
        "\n",
        "\n",
        "temp_predictions = np.zeros((X_test.shape[0],2))\n",
        "\n",
        "# 12개 모델을 반복시켜서 결과산출 -> 12로 나눠서 평균값 계산\n",
        "for model in models_list:\n",
        "    model = joblib.load('svm_models/'+model)\n",
        "    predict_proba = model.predict_proba(X_test)\n",
        "    temp_predictions += predict_proba/12"
      ],
      "execution_count": 0,
      "outputs": []
    },
    {
      "cell_type": "code",
      "metadata": {
        "colab_type": "code",
        "id": "9WwWG5WyMOHz",
        "colab": {}
      },
      "source": [
        "# dacon code\n",
        "submission = pd.DataFrame(data=np.zeros((X_test.shape[0],2)))\n",
        "submission.index = Y_test.index \n",
        "submission.index.name = 'id'\n",
        "submission+=temp_predictions\n",
        "\n",
        "submission = submission.sort_index()\n",
        "submission = submission.groupby('id').mean()\n",
        "submission.to_csv('svm_submission.csv', index=True)"
      ],
      "execution_count": 0,
      "outputs": []
    },
    {
      "cell_type": "code",
      "metadata": {
        "id": "fq-H0aSOEJM4",
        "colab_type": "code",
        "outputId": "ab86cdf2-ea21-48bd-9c52-a691b7cbf337",
        "colab": {
          "base_uri": "https://localhost:8080/",
          "height": 431
        }
      },
      "source": [
        "submission"
      ],
      "execution_count": 0,
      "outputs": [
        {
          "output_type": "execute_result",
          "data": {
            "text/html": [
              "<div>\n",
              "<style scoped>\n",
              "    .dataframe tbody tr th:only-of-type {\n",
              "        vertical-align: middle;\n",
              "    }\n",
              "\n",
              "    .dataframe tbody tr th {\n",
              "        vertical-align: top;\n",
              "    }\n",
              "\n",
              "    .dataframe thead th {\n",
              "        text-align: right;\n",
              "    }\n",
              "</style>\n",
              "<table border=\"1\" class=\"dataframe\">\n",
              "  <thead>\n",
              "    <tr style=\"text-align: right;\">\n",
              "      <th></th>\n",
              "      <th>0</th>\n",
              "      <th>1</th>\n",
              "    </tr>\n",
              "    <tr>\n",
              "      <th>id</th>\n",
              "      <th></th>\n",
              "      <th></th>\n",
              "    </tr>\n",
              "  </thead>\n",
              "  <tbody>\n",
              "    <tr>\n",
              "      <th>236756</th>\n",
              "      <td>0.999995</td>\n",
              "      <td>0.000005</td>\n",
              "    </tr>\n",
              "    <tr>\n",
              "      <th>236757</th>\n",
              "      <td>0.999933</td>\n",
              "      <td>0.000067</td>\n",
              "    </tr>\n",
              "    <tr>\n",
              "      <th>236758</th>\n",
              "      <td>0.999804</td>\n",
              "      <td>0.000196</td>\n",
              "    </tr>\n",
              "    <tr>\n",
              "      <th>236759</th>\n",
              "      <td>0.999976</td>\n",
              "      <td>0.000024</td>\n",
              "    </tr>\n",
              "    <tr>\n",
              "      <th>236760</th>\n",
              "      <td>0.999975</td>\n",
              "      <td>0.000025</td>\n",
              "    </tr>\n",
              "    <tr>\n",
              "      <th>...</th>\n",
              "      <td>...</td>\n",
              "      <td>...</td>\n",
              "    </tr>\n",
              "    <tr>\n",
              "      <th>295940</th>\n",
              "      <td>0.999944</td>\n",
              "      <td>0.000056</td>\n",
              "    </tr>\n",
              "    <tr>\n",
              "      <th>295941</th>\n",
              "      <td>0.999291</td>\n",
              "      <td>0.000709</td>\n",
              "    </tr>\n",
              "    <tr>\n",
              "      <th>295942</th>\n",
              "      <td>0.999951</td>\n",
              "      <td>0.000049</td>\n",
              "    </tr>\n",
              "    <tr>\n",
              "      <th>295943</th>\n",
              "      <td>0.999993</td>\n",
              "      <td>0.000007</td>\n",
              "    </tr>\n",
              "    <tr>\n",
              "      <th>295944</th>\n",
              "      <td>0.999631</td>\n",
              "      <td>0.000369</td>\n",
              "    </tr>\n",
              "  </tbody>\n",
              "</table>\n",
              "<p>59189 rows × 2 columns</p>\n",
              "</div>"
            ],
            "text/plain": [
              "               0         1\n",
              "id                        \n",
              "236756  0.999995  0.000005\n",
              "236757  0.999933  0.000067\n",
              "236758  0.999804  0.000196\n",
              "236759  0.999976  0.000024\n",
              "236760  0.999975  0.000025\n",
              "...          ...       ...\n",
              "295940  0.999944  0.000056\n",
              "295941  0.999291  0.000709\n",
              "295942  0.999951  0.000049\n",
              "295943  0.999993  0.000007\n",
              "295944  0.999631  0.000369\n",
              "\n",
              "[59189 rows x 2 columns]"
            ]
          },
          "metadata": {
            "tags": []
          },
          "execution_count": 25
        }
      ]
    },
    {
      "cell_type": "code",
      "metadata": {
        "id": "cF1X34sZMhX5",
        "colab_type": "code",
        "colab": {}
      },
      "source": [
        ""
      ],
      "execution_count": 0,
      "outputs": []
    },
    {
      "cell_type": "code",
      "metadata": {
        "colab_type": "code",
        "id": "h8ZtfElTMtBq",
        "colab": {}
      },
      "source": [
        "submission['pred'] = 0"
      ],
      "execution_count": 0,
      "outputs": []
    },
    {
      "cell_type": "code",
      "metadata": {
        "colab_type": "code",
        "outputId": "9bbb2766-074e-4ff0-e595-0df0883ef86a",
        "id": "1mliCEpSMtB1",
        "colab": {
          "base_uri": "https://localhost:8080/",
          "height": 105
        }
      },
      "source": [
        "for idx in submission.index:\n",
        "    if (submission[0][idx] < submission[1][idx]):\n",
        "        submission['pred'][idx]= 1"
      ],
      "execution_count": 0,
      "outputs": [
        {
          "output_type": "stream",
          "text": [
            "/usr/local/lib/python3.6/dist-packages/ipykernel_launcher.py:3: SettingWithCopyWarning: \n",
            "A value is trying to be set on a copy of a slice from a DataFrame\n",
            "\n",
            "See the caveats in the documentation: https://pandas.pydata.org/pandas-docs/stable/user_guide/indexing.html#returning-a-view-versus-a-copy\n",
            "  This is separate from the ipykernel package so we can avoid doing imports until\n"
          ],
          "name": "stderr"
        }
      ]
    },
    {
      "cell_type": "code",
      "metadata": {
        "colab_type": "code",
        "outputId": "520c67ee-7e67-4a63-aa72-759f974324d4",
        "id": "HDQrGTJqM2U1",
        "colab": {
          "base_uri": "https://localhost:8080/",
          "height": 431
        }
      },
      "source": [
        "submission"
      ],
      "execution_count": 0,
      "outputs": [
        {
          "output_type": "execute_result",
          "data": {
            "text/html": [
              "<div>\n",
              "<style scoped>\n",
              "    .dataframe tbody tr th:only-of-type {\n",
              "        vertical-align: middle;\n",
              "    }\n",
              "\n",
              "    .dataframe tbody tr th {\n",
              "        vertical-align: top;\n",
              "    }\n",
              "\n",
              "    .dataframe thead th {\n",
              "        text-align: right;\n",
              "    }\n",
              "</style>\n",
              "<table border=\"1\" class=\"dataframe\">\n",
              "  <thead>\n",
              "    <tr style=\"text-align: right;\">\n",
              "      <th></th>\n",
              "      <th>0</th>\n",
              "      <th>1</th>\n",
              "      <th>pred</th>\n",
              "    </tr>\n",
              "    <tr>\n",
              "      <th>id</th>\n",
              "      <th></th>\n",
              "      <th></th>\n",
              "      <th></th>\n",
              "    </tr>\n",
              "  </thead>\n",
              "  <tbody>\n",
              "    <tr>\n",
              "      <th>236756</th>\n",
              "      <td>0.999995</td>\n",
              "      <td>0.000005</td>\n",
              "      <td>0</td>\n",
              "    </tr>\n",
              "    <tr>\n",
              "      <th>236757</th>\n",
              "      <td>0.999933</td>\n",
              "      <td>0.000067</td>\n",
              "      <td>0</td>\n",
              "    </tr>\n",
              "    <tr>\n",
              "      <th>236758</th>\n",
              "      <td>0.999804</td>\n",
              "      <td>0.000196</td>\n",
              "      <td>0</td>\n",
              "    </tr>\n",
              "    <tr>\n",
              "      <th>236759</th>\n",
              "      <td>0.999976</td>\n",
              "      <td>0.000024</td>\n",
              "      <td>0</td>\n",
              "    </tr>\n",
              "    <tr>\n",
              "      <th>236760</th>\n",
              "      <td>0.999975</td>\n",
              "      <td>0.000025</td>\n",
              "      <td>0</td>\n",
              "    </tr>\n",
              "    <tr>\n",
              "      <th>...</th>\n",
              "      <td>...</td>\n",
              "      <td>...</td>\n",
              "      <td>...</td>\n",
              "    </tr>\n",
              "    <tr>\n",
              "      <th>295940</th>\n",
              "      <td>0.999944</td>\n",
              "      <td>0.000056</td>\n",
              "      <td>0</td>\n",
              "    </tr>\n",
              "    <tr>\n",
              "      <th>295941</th>\n",
              "      <td>0.999291</td>\n",
              "      <td>0.000709</td>\n",
              "      <td>0</td>\n",
              "    </tr>\n",
              "    <tr>\n",
              "      <th>295942</th>\n",
              "      <td>0.999951</td>\n",
              "      <td>0.000049</td>\n",
              "      <td>0</td>\n",
              "    </tr>\n",
              "    <tr>\n",
              "      <th>295943</th>\n",
              "      <td>0.999993</td>\n",
              "      <td>0.000007</td>\n",
              "      <td>0</td>\n",
              "    </tr>\n",
              "    <tr>\n",
              "      <th>295944</th>\n",
              "      <td>0.999631</td>\n",
              "      <td>0.000369</td>\n",
              "      <td>0</td>\n",
              "    </tr>\n",
              "  </tbody>\n",
              "</table>\n",
              "<p>59189 rows × 3 columns</p>\n",
              "</div>"
            ],
            "text/plain": [
              "               0         1  pred\n",
              "id                              \n",
              "236756  0.999995  0.000005     0\n",
              "236757  0.999933  0.000067     0\n",
              "236758  0.999804  0.000196     0\n",
              "236759  0.999976  0.000024     0\n",
              "236760  0.999975  0.000025     0\n",
              "...          ...       ...   ...\n",
              "295940  0.999944  0.000056     0\n",
              "295941  0.999291  0.000709     0\n",
              "295942  0.999951  0.000049     0\n",
              "295943  0.999993  0.000007     0\n",
              "295944  0.999631  0.000369     0\n",
              "\n",
              "[59189 rows x 3 columns]"
            ]
          },
          "metadata": {
            "tags": []
          },
          "execution_count": 28
        }
      ]
    },
    {
      "cell_type": "code",
      "metadata": {
        "colab_type": "code",
        "id": "F1snHvnMM2VA",
        "colab": {}
      },
      "source": [
        "from sklearn.metrics import classification_report"
      ],
      "execution_count": 0,
      "outputs": []
    },
    {
      "cell_type": "code",
      "metadata": {
        "colab_type": "code",
        "id": "70AGgEJ3M2VL",
        "colab": {}
      },
      "source": [
        "result = classification_report(Y_test, submission['pred'], target_names=['normal','smishing'])"
      ],
      "execution_count": 0,
      "outputs": []
    },
    {
      "cell_type": "code",
      "metadata": {
        "colab_type": "code",
        "outputId": "eec8f4dd-2070-4f22-b506-fbcf0f799329",
        "id": "MSbxmkNhM2VS",
        "colab": {
          "base_uri": "https://localhost:8080/",
          "height": 175
        }
      },
      "source": [
        "print(result)"
      ],
      "execution_count": 0,
      "outputs": [
        {
          "output_type": "stream",
          "text": [
            "              precision    recall  f1-score   support\n",
            "\n",
            "      normal       1.00      1.00      1.00     51205\n",
            "    smishing       1.00      0.98      0.99      7984\n",
            "\n",
            "    accuracy                           1.00     59189\n",
            "   macro avg       1.00      0.99      0.99     59189\n",
            "weighted avg       1.00      1.00      1.00     59189\n",
            "\n"
          ],
          "name": "stdout"
        }
      ]
    },
    {
      "cell_type": "code",
      "metadata": {
        "colab_type": "code",
        "id": "P1cyfTKUM2Va",
        "colab": {}
      },
      "source": [
        "from sklearn.metrics import accuracy_score"
      ],
      "execution_count": 0,
      "outputs": []
    },
    {
      "cell_type": "code",
      "metadata": {
        "colab_type": "code",
        "outputId": "36fc0461-4714-4ee0-f3a0-129c5071ea9d",
        "id": "YJXNLQV0M2Vj",
        "colab": {
          "base_uri": "https://localhost:8080/",
          "height": 34
        }
      },
      "source": [
        "accuracy_score(Y_test, submission['pred'])"
      ],
      "execution_count": 0,
      "outputs": [
        {
          "output_type": "execute_result",
          "data": {
            "text/plain": [
              "0.9974319552619575"
            ]
          },
          "metadata": {
            "tags": []
          },
          "execution_count": 33
        }
      ]
    },
    {
      "cell_type": "code",
      "metadata": {
        "colab_type": "code",
        "outputId": "33ac81b1-83b0-408f-8162-041a2bd669b4",
        "id": "BIdY57bTM2Vr",
        "colab": {
          "base_uri": "https://localhost:8080/",
          "height": 34
        }
      },
      "source": [
        "accuracy_score(Y_test, submission['pred'], normalize=False)"
      ],
      "execution_count": 0,
      "outputs": [
        {
          "output_type": "execute_result",
          "data": {
            "text/plain": [
              "59037"
            ]
          },
          "metadata": {
            "tags": []
          },
          "execution_count": 34
        }
      ]
    },
    {
      "cell_type": "code",
      "metadata": {
        "colab_type": "code",
        "outputId": "cdcb3005-91bc-4fc6-c8a1-9d5941143d7b",
        "id": "e4PwcdZ8M2V1",
        "colab": {
          "base_uri": "https://localhost:8080/",
          "height": 34
        }
      },
      "source": [
        "len(Y_test)"
      ],
      "execution_count": 0,
      "outputs": [
        {
          "output_type": "execute_result",
          "data": {
            "text/plain": [
              "59189"
            ]
          },
          "metadata": {
            "tags": []
          },
          "execution_count": 35
        }
      ]
    },
    {
      "cell_type": "code",
      "metadata": {
        "id": "1JrLZk6sMhfj",
        "colab_type": "code",
        "colab": {}
      },
      "source": [
        "import matplotlib.pylab as plt\n",
        "import scipy.sparse as sparse"
      ],
      "execution_count": 0,
      "outputs": []
    },
    {
      "cell_type": "code",
      "metadata": {
        "id": "24nr_HuTMhix",
        "colab_type": "code",
        "outputId": "536426cd-fe72-4ff7-d880-2c7fe4570465",
        "colab": {
          "base_uri": "https://localhost:8080/",
          "height": 623
        }
      },
      "source": [
        "plt.spy(x_train, y_train)"
      ],
      "execution_count": 0,
      "outputs": [
        {
          "output_type": "stream",
          "text": [
            "/usr/local/lib/python3.6/dist-packages/pandas/core/ops/array_ops.py:253: FutureWarning: elementwise comparison failed; returning scalar instead, but in the future will perform elementwise comparison\n",
            "  res_values = method(rvalues)\n"
          ],
          "name": "stderr"
        },
        {
          "output_type": "error",
          "ename": "ValueError",
          "evalue": "ignored",
          "traceback": [
            "\u001b[0;31m---------------------------------------------------------------------------\u001b[0m",
            "\u001b[0;31mValueError\u001b[0m                                Traceback (most recent call last)",
            "\u001b[0;32m<ipython-input-44-847a54a41427>\u001b[0m in \u001b[0;36m<module>\u001b[0;34m()\u001b[0m\n\u001b[0;32m----> 1\u001b[0;31m \u001b[0mplt\u001b[0m\u001b[0;34m.\u001b[0m\u001b[0mspy\u001b[0m\u001b[0;34m(\u001b[0m\u001b[0mx_train\u001b[0m\u001b[0;34m,\u001b[0m \u001b[0my_train\u001b[0m\u001b[0;34m)\u001b[0m\u001b[0;34m\u001b[0m\u001b[0;34m\u001b[0m\u001b[0m\n\u001b[0m",
            "\u001b[0;32m/usr/local/lib/python3.6/dist-packages/matplotlib/pyplot.py\u001b[0m in \u001b[0;36mspy\u001b[0;34m(Z, precision, marker, markersize, aspect, origin, **kwargs)\u001b[0m\n\u001b[1;32m   2855\u001b[0m     __ret = gca().spy(\n\u001b[1;32m   2856\u001b[0m         \u001b[0mZ\u001b[0m\u001b[0;34m,\u001b[0m \u001b[0mprecision\u001b[0m\u001b[0;34m=\u001b[0m\u001b[0mprecision\u001b[0m\u001b[0;34m,\u001b[0m \u001b[0mmarker\u001b[0m\u001b[0;34m=\u001b[0m\u001b[0mmarker\u001b[0m\u001b[0;34m,\u001b[0m \u001b[0mmarkersize\u001b[0m\u001b[0;34m=\u001b[0m\u001b[0mmarkersize\u001b[0m\u001b[0;34m,\u001b[0m\u001b[0;34m\u001b[0m\u001b[0;34m\u001b[0m\u001b[0m\n\u001b[0;32m-> 2857\u001b[0;31m         aspect=aspect, origin=origin, **kwargs)\n\u001b[0m\u001b[1;32m   2858\u001b[0m     \u001b[0;32mif\u001b[0m \u001b[0misinstance\u001b[0m\u001b[0;34m(\u001b[0m\u001b[0m__ret\u001b[0m\u001b[0;34m,\u001b[0m \u001b[0mcm\u001b[0m\u001b[0;34m.\u001b[0m\u001b[0mScalarMappable\u001b[0m\u001b[0;34m)\u001b[0m\u001b[0;34m:\u001b[0m \u001b[0msci\u001b[0m\u001b[0;34m(\u001b[0m\u001b[0m__ret\u001b[0m\u001b[0;34m)\u001b[0m  \u001b[0;31m# noqa\u001b[0m\u001b[0;34m\u001b[0m\u001b[0;34m\u001b[0m\u001b[0m\n\u001b[1;32m   2859\u001b[0m     \u001b[0;32mreturn\u001b[0m \u001b[0m__ret\u001b[0m\u001b[0;34m\u001b[0m\u001b[0;34m\u001b[0m\u001b[0m\n",
            "\u001b[0;32m/usr/local/lib/python3.6/dist-packages/matplotlib/axes/_axes.py\u001b[0m in \u001b[0;36mspy\u001b[0;34m(self, Z, precision, marker, markersize, aspect, origin, **kwargs)\u001b[0m\n\u001b[1;32m   7700\u001b[0m             \u001b[0;32mif\u001b[0m \u001b[0mhasattr\u001b[0m\u001b[0;34m(\u001b[0m\u001b[0mZ\u001b[0m\u001b[0;34m,\u001b[0m \u001b[0;34m'tocoo'\u001b[0m\u001b[0;34m)\u001b[0m\u001b[0;34m:\u001b[0m\u001b[0;34m\u001b[0m\u001b[0;34m\u001b[0m\u001b[0m\n\u001b[1;32m   7701\u001b[0m                 \u001b[0mc\u001b[0m \u001b[0;34m=\u001b[0m \u001b[0mZ\u001b[0m\u001b[0;34m.\u001b[0m\u001b[0mtocoo\u001b[0m\u001b[0;34m(\u001b[0m\u001b[0;34m)\u001b[0m\u001b[0;34m\u001b[0m\u001b[0;34m\u001b[0m\u001b[0m\n\u001b[0;32m-> 7702\u001b[0;31m                 \u001b[0;32mif\u001b[0m \u001b[0mprecision\u001b[0m \u001b[0;34m==\u001b[0m \u001b[0;34m'present'\u001b[0m\u001b[0;34m:\u001b[0m\u001b[0;34m\u001b[0m\u001b[0;34m\u001b[0m\u001b[0m\n\u001b[0m\u001b[1;32m   7703\u001b[0m                     \u001b[0my\u001b[0m \u001b[0;34m=\u001b[0m \u001b[0mc\u001b[0m\u001b[0;34m.\u001b[0m\u001b[0mrow\u001b[0m\u001b[0;34m\u001b[0m\u001b[0;34m\u001b[0m\u001b[0m\n\u001b[1;32m   7704\u001b[0m                     \u001b[0mx\u001b[0m \u001b[0;34m=\u001b[0m \u001b[0mc\u001b[0m\u001b[0;34m.\u001b[0m\u001b[0mcol\u001b[0m\u001b[0;34m\u001b[0m\u001b[0;34m\u001b[0m\u001b[0m\n",
            "\u001b[0;32m/usr/local/lib/python3.6/dist-packages/pandas/core/generic.py\u001b[0m in \u001b[0;36m__nonzero__\u001b[0;34m(self)\u001b[0m\n\u001b[1;32m   1477\u001b[0m     \u001b[0;32mdef\u001b[0m \u001b[0m__nonzero__\u001b[0m\u001b[0;34m(\u001b[0m\u001b[0mself\u001b[0m\u001b[0;34m)\u001b[0m\u001b[0;34m:\u001b[0m\u001b[0;34m\u001b[0m\u001b[0;34m\u001b[0m\u001b[0m\n\u001b[1;32m   1478\u001b[0m         raise ValueError(\n\u001b[0;32m-> 1479\u001b[0;31m             \u001b[0;34mf\"The truth value of a {type(self).__name__} is ambiguous. \"\u001b[0m\u001b[0;34m\u001b[0m\u001b[0;34m\u001b[0m\u001b[0m\n\u001b[0m\u001b[1;32m   1480\u001b[0m             \u001b[0;34m\"Use a.empty, a.bool(), a.item(), a.any() or a.all().\"\u001b[0m\u001b[0;34m\u001b[0m\u001b[0;34m\u001b[0m\u001b[0m\n\u001b[1;32m   1481\u001b[0m         )\n",
            "\u001b[0;31mValueError\u001b[0m: The truth value of a Series is ambiguous. Use a.empty, a.bool(), a.item(), a.any() or a.all()."
          ]
        },
        {
          "output_type": "display_data",
          "data": {
            "image/png": "[encoded data removed]",
            "text/plain": [
              "<Figure size 432x288 with 1 Axes>"
            ]
          },
          "metadata": {
            "tags": [],
            "needs_background": "light"
          }
        }
      ]
    },
    {
      "cell_type": "code",
      "metadata": {
        "id": "2Imr_4zLMhmJ",
        "colab_type": "code",
        "outputId": "99c1aebc-5621-44eb-af31-b0f0edbe4076",
        "colab": {
          "base_uri": "https://localhost:8080/",
          "height": 292
        }
      },
      "source": [
        "sparse.spmatrix(x_train)"
      ],
      "execution_count": 0,
      "outputs": [
        {
          "output_type": "error",
          "ename": "ValueError",
          "evalue": "ignored",
          "traceback": [
            "\u001b[0;31m---------------------------------------------------------------------------\u001b[0m",
            "\u001b[0;31mValueError\u001b[0m                                Traceback (most recent call last)",
            "\u001b[0;32m<ipython-input-43-1329dce54188>\u001b[0m in \u001b[0;36m<module>\u001b[0;34m()\u001b[0m\n\u001b[0;32m----> 1\u001b[0;31m \u001b[0msparse\u001b[0m\u001b[0;34m.\u001b[0m\u001b[0mspmatrix\u001b[0m\u001b[0;34m(\u001b[0m\u001b[0mx_train\u001b[0m\u001b[0;34m)\u001b[0m\u001b[0;34m\u001b[0m\u001b[0;34m\u001b[0m\u001b[0m\n\u001b[0m",
            "\u001b[0;32m/usr/local/lib/python3.6/dist-packages/scipy/sparse/base.py\u001b[0m in \u001b[0;36m__init__\u001b[0;34m(self, maxprint)\u001b[0m\n\u001b[1;32m     71\u001b[0m         \u001b[0mself\u001b[0m\u001b[0;34m.\u001b[0m\u001b[0m_shape\u001b[0m \u001b[0;34m=\u001b[0m \u001b[0;32mNone\u001b[0m\u001b[0;34m\u001b[0m\u001b[0;34m\u001b[0m\u001b[0m\n\u001b[1;32m     72\u001b[0m         \u001b[0;32mif\u001b[0m \u001b[0mself\u001b[0m\u001b[0;34m.\u001b[0m\u001b[0m__class__\u001b[0m\u001b[0;34m.\u001b[0m\u001b[0m__name__\u001b[0m \u001b[0;34m==\u001b[0m \u001b[0;34m'spmatrix'\u001b[0m\u001b[0;34m:\u001b[0m\u001b[0;34m\u001b[0m\u001b[0;34m\u001b[0m\u001b[0m\n\u001b[0;32m---> 73\u001b[0;31m             raise ValueError(\"This class is not intended\"\n\u001b[0m\u001b[1;32m     74\u001b[0m                              \" to be instantiated directly.\")\n\u001b[1;32m     75\u001b[0m         \u001b[0mself\u001b[0m\u001b[0;34m.\u001b[0m\u001b[0mmaxprint\u001b[0m \u001b[0;34m=\u001b[0m \u001b[0mmaxprint\u001b[0m\u001b[0;34m\u001b[0m\u001b[0;34m\u001b[0m\u001b[0m\n",
            "\u001b[0;31mValueError\u001b[0m: This class is not intended to be instantiated directly."
          ]
        }
      ]
    },
    {
      "cell_type": "code",
      "metadata": {
        "id": "PPqklLzcMhoo",
        "colab_type": "code",
        "outputId": "d5b62e76-1257-4a76-c852-149d40d3462a",
        "colab": {
          "base_uri": "https://localhost:8080/",
          "height": 34
        }
      },
      "source": [
        "type(x_train)"
      ],
      "execution_count": 0,
      "outputs": [
        {
          "output_type": "execute_result",
          "data": {
            "text/plain": [
              "scipy.sparse.csr.csr_matrix"
            ]
          },
          "metadata": {
            "tags": []
          },
          "execution_count": 45
        }
      ]
    },
    {
      "cell_type": "code",
      "metadata": {
        "id": "gJd4QB9tMhsD",
        "colab_type": "code",
        "outputId": "74a65cba-eb1e-441b-ecc9-0415c569f0d8",
        "colab": {
          "base_uri": "https://localhost:8080/",
          "height": 424
        }
      },
      "source": [
        "pip install betterspy"
      ],
      "execution_count": 0,
      "outputs": [
        {
          "output_type": "stream",
          "text": [
            "Collecting betterspy\n",
            "  Downloading https://files.pythonhosted.org/packages/d0/fd/5ef05d8a70873d43d5b27199018ee1da888efa320c609b5fda227b83749a/betterspy-0.1.3-py3-none-any.whl\n",
            "Collecting purepng\n",
            "\u001b[?25l  Downloading https://files.pythonhosted.org/packages/b3/91/9fa8a4752a4c028237cb6ea7efab6680eb68a686e8d70c8124ff347d6553/purepng-0.2.0.tar.gz (149kB)\n",
            "\u001b[K     |████████████████████████████████| 153kB 4.1MB/s \n",
            "\u001b[?25hRequirement already satisfied: scipy in /usr/local/lib/python3.6/dist-packages (from betterspy) (1.4.1)\n",
            "Requirement already satisfied: numpy in /usr/local/lib/python3.6/dist-packages (from betterspy) (1.18.3)\n",
            "Requirement already satisfied: matplotlib in /usr/local/lib/python3.6/dist-packages (from betterspy) (3.2.1)\n",
            "Requirement already satisfied: importlib-metadata in /usr/local/lib/python3.6/dist-packages (from betterspy) (1.6.0)\n",
            "Requirement already satisfied: pyparsing!=2.0.4,!=2.1.2,!=2.1.6,>=2.0.1 in /usr/local/lib/python3.6/dist-packages (from matplotlib->betterspy) (2.4.7)\n",
            "Requirement already satisfied: python-dateutil>=2.1 in /usr/local/lib/python3.6/dist-packages (from matplotlib->betterspy) (2.8.1)\n",
            "Requirement already satisfied: kiwisolver>=1.0.1 in /usr/local/lib/python3.6/dist-packages (from matplotlib->betterspy) (1.2.0)\n",
            "Requirement already satisfied: cycler>=0.10 in /usr/local/lib/python3.6/dist-packages (from matplotlib->betterspy) (0.10.0)\n",
            "Requirement already satisfied: zipp>=0.5 in /usr/local/lib/python3.6/dist-packages (from importlib-metadata->betterspy) (3.1.0)\n",
            "Requirement already satisfied: six>=1.5 in /usr/local/lib/python3.6/dist-packages (from python-dateutil>=2.1->matplotlib->betterspy) (1.12.0)\n",
            "Building wheels for collected packages: purepng\n",
            "  Building wheel for purepng (setup.py) ... \u001b[?25l\u001b[?25hdone\n",
            "  Created wheel for purepng: filename=purepng-0.2.0-cp36-cp36m-linux_x86_64.whl size=349371 sha256=55371bd111cf84eedb4a2a6cbd9bc918824497a9be9adfabc5dbdda4ab80b91c\n",
            "  Stored in directory: /root/.cache/pip/wheels/c3/1c/f3/f27382debc5b947c2239743b3e82cb9e6aeed3942377a07ae3\n",
            "Successfully built purepng\n",
            "Installing collected packages: purepng, betterspy\n",
            "Successfully installed betterspy-0.1.3 purepng-0.2.0\n"
          ],
          "name": "stdout"
        }
      ]
    },
    {
      "cell_type": "code",
      "metadata": {
        "id": "j0WG6TdMRRai",
        "colab_type": "code",
        "colab": {}
      },
      "source": [
        "import betterspy"
      ],
      "execution_count": 0,
      "outputs": []
    },
    {
      "cell_type": "code",
      "metadata": {
        "id": "k_Q7B5i4RRei",
        "colab_type": "code",
        "outputId": "31ac89b1-e0a8-424a-c0c2-d5b907d3a48f",
        "colab": {
          "base_uri": "https://localhost:8080/",
          "height": 316
        }
      },
      "source": [
        "betterspy.show(x_train)"
      ],
      "execution_count": 0,
      "outputs": [
        {
          "output_type": "error",
          "ename": "DecompressionBombError",
          "evalue": "ignored",
          "traceback": [
            "\u001b[0;31m---------------------------------------------------------------------------\u001b[0m",
            "\u001b[0;31mDecompressionBombError\u001b[0m                    Traceback (most recent call last)",
            "\u001b[0;32m<ipython-input-48-e43c09ceb606>\u001b[0m in \u001b[0;36m<module>\u001b[0;34m()\u001b[0m\n\u001b[0;32m----> 1\u001b[0;31m \u001b[0mbetterspy\u001b[0m\u001b[0;34m.\u001b[0m\u001b[0mshow\u001b[0m\u001b[0;34m(\u001b[0m\u001b[0mx_train\u001b[0m\u001b[0;34m)\u001b[0m\u001b[0;34m\u001b[0m\u001b[0;34m\u001b[0m\u001b[0m\n\u001b[0m",
            "\u001b[0;32m/usr/local/lib/python3.6/dist-packages/betterspy/main.py\u001b[0m in \u001b[0;36mshow\u001b[0;34m(*args, **kwargs)\u001b[0m\n\u001b[1;32m     28\u001b[0m \u001b[0;34m\u001b[0m\u001b[0m\n\u001b[1;32m     29\u001b[0m \u001b[0;32mdef\u001b[0m \u001b[0mshow\u001b[0m\u001b[0;34m(\u001b[0m\u001b[0;34m*\u001b[0m\u001b[0margs\u001b[0m\u001b[0;34m,\u001b[0m \u001b[0;34m**\u001b[0m\u001b[0mkwargs\u001b[0m\u001b[0;34m)\u001b[0m\u001b[0;34m:\u001b[0m\u001b[0;34m\u001b[0m\u001b[0;34m\u001b[0m\u001b[0m\n\u001b[0;32m---> 30\u001b[0;31m     \u001b[0mplot\u001b[0m\u001b[0;34m(\u001b[0m\u001b[0;34m*\u001b[0m\u001b[0margs\u001b[0m\u001b[0;34m,\u001b[0m \u001b[0;34m**\u001b[0m\u001b[0mkwargs\u001b[0m\u001b[0;34m)\u001b[0m\u001b[0;34m\u001b[0m\u001b[0;34m\u001b[0m\u001b[0m\n\u001b[0m\u001b[1;32m     31\u001b[0m     \u001b[0mplt\u001b[0m\u001b[0;34m.\u001b[0m\u001b[0mshow\u001b[0m\u001b[0;34m(\u001b[0m\u001b[0;34m)\u001b[0m\u001b[0;34m\u001b[0m\u001b[0;34m\u001b[0m\u001b[0m\n\u001b[1;32m     32\u001b[0m     \u001b[0;32mreturn\u001b[0m\u001b[0;34m\u001b[0m\u001b[0;34m\u001b[0m\u001b[0m\n",
            "\u001b[0;32m/usr/local/lib/python3.6/dist-packages/betterspy/main.py\u001b[0m in \u001b[0;36mplot\u001b[0;34m(A, border_width, border_color, colormap)\u001b[0m\n\u001b[1;32m     21\u001b[0m             \u001b[0mcolormap\u001b[0m\u001b[0;34m=\u001b[0m\u001b[0mcolormap\u001b[0m\u001b[0;34m,\u001b[0m\u001b[0;34m\u001b[0m\u001b[0;34m\u001b[0m\u001b[0m\n\u001b[1;32m     22\u001b[0m         )\n\u001b[0;32m---> 23\u001b[0;31m         \u001b[0mimg\u001b[0m \u001b[0;34m=\u001b[0m \u001b[0mmpimg\u001b[0m\u001b[0;34m.\u001b[0m\u001b[0mimread\u001b[0m\u001b[0;34m(\u001b[0m\u001b[0mfp\u001b[0m\u001b[0;34m.\u001b[0m\u001b[0mname\u001b[0m\u001b[0;34m)\u001b[0m\u001b[0;34m\u001b[0m\u001b[0;34m\u001b[0m\u001b[0m\n\u001b[0m\u001b[1;32m     24\u001b[0m         \u001b[0mplt\u001b[0m\u001b[0;34m.\u001b[0m\u001b[0mimshow\u001b[0m\u001b[0;34m(\u001b[0m\u001b[0mimg\u001b[0m\u001b[0;34m,\u001b[0m \u001b[0morigin\u001b[0m\u001b[0;34m=\u001b[0m\u001b[0;34m\"upper\"\u001b[0m\u001b[0;34m,\u001b[0m \u001b[0minterpolation\u001b[0m\u001b[0;34m=\u001b[0m\u001b[0;34m\"nearest\"\u001b[0m\u001b[0;34m)\u001b[0m\u001b[0;34m\u001b[0m\u001b[0;34m\u001b[0m\u001b[0m\n\u001b[1;32m     25\u001b[0m \u001b[0;34m\u001b[0m\u001b[0m\n",
            "\u001b[0;32m/usr/local/lib/python3.6/dist-packages/matplotlib/image.py\u001b[0m in \u001b[0;36mimread\u001b[0;34m(fname, format)\u001b[0m\n\u001b[1;32m   1462\u001b[0m             raise ValueError('Only know how to handle PNG; with Pillow '\n\u001b[1;32m   1463\u001b[0m                              'installed, Matplotlib can handle more images')\n\u001b[0;32m-> 1464\u001b[0;31m         \u001b[0;32mwith\u001b[0m \u001b[0mImage\u001b[0m\u001b[0;34m.\u001b[0m\u001b[0mopen\u001b[0m\u001b[0;34m(\u001b[0m\u001b[0mfname\u001b[0m\u001b[0;34m)\u001b[0m \u001b[0;32mas\u001b[0m \u001b[0mimage\u001b[0m\u001b[0;34m:\u001b[0m\u001b[0;34m\u001b[0m\u001b[0;34m\u001b[0m\u001b[0m\n\u001b[0m\u001b[1;32m   1465\u001b[0m             \u001b[0;32mreturn\u001b[0m \u001b[0mpil_to_array\u001b[0m\u001b[0;34m(\u001b[0m\u001b[0mimage\u001b[0m\u001b[0;34m)\u001b[0m\u001b[0;34m\u001b[0m\u001b[0;34m\u001b[0m\u001b[0m\n\u001b[1;32m   1466\u001b[0m     \u001b[0;32mfrom\u001b[0m \u001b[0mmatplotlib\u001b[0m \u001b[0;32mimport\u001b[0m \u001b[0m_png\u001b[0m\u001b[0;34m\u001b[0m\u001b[0;34m\u001b[0m\u001b[0m\n",
            "\u001b[0;32m/usr/local/lib/python3.6/dist-packages/PIL/Image.py\u001b[0m in \u001b[0;36mopen\u001b[0;34m(fp, mode)\u001b[0m\n\u001b[1;32m   2845\u001b[0m         \u001b[0;32mreturn\u001b[0m \u001b[0;32mNone\u001b[0m\u001b[0;34m\u001b[0m\u001b[0;34m\u001b[0m\u001b[0m\n\u001b[1;32m   2846\u001b[0m \u001b[0;34m\u001b[0m\u001b[0m\n\u001b[0;32m-> 2847\u001b[0;31m     \u001b[0mim\u001b[0m \u001b[0;34m=\u001b[0m \u001b[0m_open_core\u001b[0m\u001b[0;34m(\u001b[0m\u001b[0mfp\u001b[0m\u001b[0;34m,\u001b[0m \u001b[0mfilename\u001b[0m\u001b[0;34m,\u001b[0m \u001b[0mprefix\u001b[0m\u001b[0;34m)\u001b[0m\u001b[0;34m\u001b[0m\u001b[0;34m\u001b[0m\u001b[0m\n\u001b[0m\u001b[1;32m   2848\u001b[0m \u001b[0;34m\u001b[0m\u001b[0m\n\u001b[1;32m   2849\u001b[0m     \u001b[0;32mif\u001b[0m \u001b[0mim\u001b[0m \u001b[0;32mis\u001b[0m \u001b[0;32mNone\u001b[0m\u001b[0;34m:\u001b[0m\u001b[0;34m\u001b[0m\u001b[0;34m\u001b[0m\u001b[0m\n",
            "\u001b[0;32m/usr/local/lib/python3.6/dist-packages/PIL/Image.py\u001b[0m in \u001b[0;36m_open_core\u001b[0;34m(fp, filename, prefix)\u001b[0m\n\u001b[1;32m   2832\u001b[0m                     \u001b[0mfp\u001b[0m\u001b[0;34m.\u001b[0m\u001b[0mseek\u001b[0m\u001b[0;34m(\u001b[0m\u001b[0;36m0\u001b[0m\u001b[0;34m)\u001b[0m\u001b[0;34m\u001b[0m\u001b[0;34m\u001b[0m\u001b[0m\n\u001b[1;32m   2833\u001b[0m                     \u001b[0mim\u001b[0m \u001b[0;34m=\u001b[0m \u001b[0mfactory\u001b[0m\u001b[0;34m(\u001b[0m\u001b[0mfp\u001b[0m\u001b[0;34m,\u001b[0m \u001b[0mfilename\u001b[0m\u001b[0;34m)\u001b[0m\u001b[0;34m\u001b[0m\u001b[0;34m\u001b[0m\u001b[0m\n\u001b[0;32m-> 2834\u001b[0;31m                     \u001b[0m_decompression_bomb_check\u001b[0m\u001b[0;34m(\u001b[0m\u001b[0mim\u001b[0m\u001b[0;34m.\u001b[0m\u001b[0msize\u001b[0m\u001b[0;34m)\u001b[0m\u001b[0;34m\u001b[0m\u001b[0;34m\u001b[0m\u001b[0m\n\u001b[0m\u001b[1;32m   2835\u001b[0m                     \u001b[0;32mreturn\u001b[0m \u001b[0mim\u001b[0m\u001b[0;34m\u001b[0m\u001b[0;34m\u001b[0m\u001b[0m\n\u001b[1;32m   2836\u001b[0m             \u001b[0;32mexcept\u001b[0m \u001b[0;34m(\u001b[0m\u001b[0mSyntaxError\u001b[0m\u001b[0;34m,\u001b[0m \u001b[0mIndexError\u001b[0m\u001b[0;34m,\u001b[0m \u001b[0mTypeError\u001b[0m\u001b[0;34m,\u001b[0m \u001b[0mstruct\u001b[0m\u001b[0;34m.\u001b[0m\u001b[0merror\u001b[0m\u001b[0;34m)\u001b[0m\u001b[0;34m:\u001b[0m\u001b[0;34m\u001b[0m\u001b[0;34m\u001b[0m\u001b[0m\n",
            "\u001b[0;32m/usr/local/lib/python3.6/dist-packages/PIL/Image.py\u001b[0m in \u001b[0;36m_decompression_bomb_check\u001b[0;34m(size)\u001b[0m\n\u001b[1;32m   2757\u001b[0m         raise DecompressionBombError(\n\u001b[1;32m   2758\u001b[0m             \u001b[0;34m\"Image size (%d pixels) exceeds limit of %d pixels, \"\u001b[0m\u001b[0;34m\u001b[0m\u001b[0;34m\u001b[0m\u001b[0m\n\u001b[0;32m-> 2759\u001b[0;31m             \u001b[0;34m\"could be decompression bomb DOS attack.\"\u001b[0m \u001b[0;34m%\u001b[0m \u001b[0;34m(\u001b[0m\u001b[0mpixels\u001b[0m\u001b[0;34m,\u001b[0m \u001b[0;36m2\u001b[0m \u001b[0;34m*\u001b[0m \u001b[0mMAX_IMAGE_PIXELS\u001b[0m\u001b[0;34m)\u001b[0m\u001b[0;34m\u001b[0m\u001b[0;34m\u001b[0m\u001b[0m\n\u001b[0m\u001b[1;32m   2760\u001b[0m         )\n\u001b[1;32m   2761\u001b[0m \u001b[0;34m\u001b[0m\u001b[0m\n",
            "\u001b[0;31mDecompressionBombError\u001b[0m: Image size (1775670000 pixels) exceeds limit of 178956970 pixels, could be decompression bomb DOS attack."
          ]
        }
      ]
    },
    {
      "cell_type": "code",
      "metadata": {
        "id": "NfNeNJosRRir",
        "colab_type": "code",
        "colab": {}
      },
      "source": [
        ""
      ],
      "execution_count": 0,
      "outputs": []
    },
    {
      "cell_type": "code",
      "metadata": {
        "id": "SD25pfrhRRmb",
        "colab_type": "code",
        "colab": {}
      },
      "source": [
        ""
      ],
      "execution_count": 0,
      "outputs": []
    },
    {
      "cell_type": "code",
      "metadata": {
        "id": "_0sC2Q2RRRqA",
        "colab_type": "code",
        "colab": {}
      },
      "source": [
        ""
      ],
      "execution_count": 0,
      "outputs": []
    },
    {
      "cell_type": "markdown",
      "metadata": {
        "id": "U2SUFBLsvGLA",
        "colab_type": "text"
      },
      "source": [
        "# Imbalanced data 개선\n",
        "1. Over Sampling\n",
        "2. Under Sampling\n",
        "3. Combining Over and Under Sampling"
      ]
    },
    {
      "cell_type": "markdown",
      "metadata": {
        "id": "5HoEAWJPvGNV",
        "colab_type": "text"
      },
      "source": [
        "## 1. Over Sampling"
      ]
    },
    {
      "cell_type": "markdown",
      "metadata": {
        "id": "jkPnxg8PvGQd",
        "colab_type": "text"
      },
      "source": [
        "## 2. Under Sampling"
      ]
    },
    {
      "cell_type": "markdown",
      "metadata": {
        "id": "9Rl91NT0vGS2",
        "colab_type": "text"
      },
      "source": [
        "## 3. Combining Over and Under Sampling"
      ]
    }
  ]
}